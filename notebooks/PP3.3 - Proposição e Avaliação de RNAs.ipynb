{
  "nbformat": 4,
  "nbformat_minor": 0,
  "metadata": {
    "kernelspec": {
      "display_name": "Python 3",
      "language": "python",
      "name": "python3"
    },
    "language_info": {
      "codemirror_mode": {
        "name": "ipython",
        "version": 3
      },
      "file_extension": ".py",
      "mimetype": "text/x-python",
      "name": "python",
      "nbconvert_exporter": "python",
      "pygments_lexer": "ipython3",
      "version": "3.8.2"
    },
    "colab": {
      "name": "PP3.3 - Proposição e Avaliação de RNAs.ipynb",
      "provenance": [],
      "collapsed_sections": []
    },
    "accelerator": "GPU"
  },
  "cells": [
    {
      "cell_type": "markdown",
      "metadata": {
        "id": "q0oWiwkIl44j"
      },
      "source": [
        "## Redes Neurais Artificiais 2020.1\n",
        "\n",
        "**Disciplina**: Redes Neurais Artificiais 2020.1  \n",
        "**Professora**: Elloá B. Guedes (ebgcosta@uea.edu.br)  \n",
        "**Github**: http://github.com/elloa  \n",
        "**Aluno(a):** Erik Atilio Silva Rey  \n",
        "**Aluno(a):** Enrique Leão Barbosa Izel  \n",
        "\n",
        "\n",
        "Levando em conta a base de dados **_Forest Cover Type_**, esta terceira parte do Projeto Prático 3 diz respeito à proposição e avaliação de múltiplas redes neurais artificiais do tipo feedforward multilayer perceptron para o problema da classificação multi-classe da cobertura florestal em uma área do Roosevelt National Forest."
      ]
    },
    {
      "cell_type": "code",
      "metadata": {
        "id": "RTRh3PDml44k",
        "outputId": "5294e4c1-ee9e-4219-ad1f-ba008e3add0e",
        "colab": {
          "base_uri": "https://localhost:8080/",
          "height": 34
        }
      },
      "source": [
        "## Reservado para a importação de bibliotecas\n",
        "import numpy as np\n",
        "import pandas as pd\n",
        "from google.colab import drive\n",
        "drive.mount('/content/drive')\n",
        "from sklearn.model_selection import train_test_split\n",
        "from sklearn.neural_network import MLPClassifier\n",
        "from sklearn.metrics import confusion_matrix, f1_score, precision_score, recall_score, accuracy_score"
      ],
      "execution_count": 1,
      "outputs": [
        {
          "output_type": "stream",
          "text": [
            "Mounted at /content/drive\n"
          ],
          "name": "stdout"
        }
      ]
    },
    {
      "cell_type": "markdown",
      "metadata": {
        "id": "e0Yb8hJol44o"
      },
      "source": [
        "## Testando Redes Neurais sem os Atributos Categórios\n",
        "\n",
        "1. Abra a base de dados em questão"
      ]
    },
    {
      "cell_type": "code",
      "metadata": {
        "id": "-cOZcHNZl44p"
      },
      "source": [
        "df = pd.read_csv('/content/drive/My Drive/Colab Notebooks/projeto-pratico-3-equipe-ultra-mega-dinamite/notebooks/data/covtype.csv')"
      ],
      "execution_count": 2,
      "outputs": []
    },
    {
      "cell_type": "markdown",
      "metadata": {
        "id": "_JxAoQjxl44s"
      },
      "source": [
        "2. Elimine todas as colunas relativas aos atributos categóricos"
      ]
    },
    {
      "cell_type": "code",
      "metadata": {
        "id": "4lVJV-e4l44t"
      },
      "source": [
        "# Função para remover colunas dos atributos categóricos\n",
        "def remove_columns(column, n):\n",
        "    columns_to_remove = []\n",
        "    for i in range(1,n+1):\n",
        "        columns_to_remove.append(column+str(i))\n",
        "    return df.drop(columns_to_remove, axis=1)"
      ],
      "execution_count": 3,
      "outputs": []
    },
    {
      "cell_type": "code",
      "metadata": {
        "id": "tkuDXG-_l44z"
      },
      "source": [
        "df = remove_columns('Soil_Type', 40)\n",
        "df = remove_columns('Wilderness_Area', 4)"
      ],
      "execution_count": 4,
      "outputs": []
    },
    {
      "cell_type": "markdown",
      "metadata": {
        "id": "556qhCKul444"
      },
      "source": [
        "3. Armazene o atributo alvo em uma variável y e os atributos preditores em uma variável X"
      ]
    },
    {
      "cell_type": "code",
      "metadata": {
        "id": "Ij6ANoacl445"
      },
      "source": [
        "df_y = df['Cover_Type']\n",
        "df_x = df.loc[:, 'Elevation':'Horizontal_Distance_To_Fire_Points']"
      ],
      "execution_count": 5,
      "outputs": []
    },
    {
      "cell_type": "markdown",
      "metadata": {
        "id": "UQpMkzEMl448"
      },
      "source": [
        "4. Efetue uma partição holdout 70/30 com o sklearn, distribuindo os exemplos de maneira aleatória"
      ]
    },
    {
      "cell_type": "code",
      "metadata": {
        "id": "B-iBYN_6l448"
      },
      "source": [
        "# Particao holdout para treino (70%) e teste (30%)\n",
        "x_train, x_test, y_train, y_test = train_test_split(df_x, df_y, test_size=0.3, train_size=0.7, random_state=42)"
      ],
      "execution_count": 6,
      "outputs": []
    },
    {
      "cell_type": "markdown",
      "metadata": {
        "id": "RIh0AiEhl45A"
      },
      "source": [
        "5. Efetue o escalonamento dos atributos"
      ]
    },
    {
      "cell_type": "code",
      "metadata": {
        "id": "gC_66TPVl45B"
      },
      "source": [
        "# Escalonando os atributos\n",
        "x_train_std = (x_train - np.mean(x_train))/np.std(x_train)\n",
        "x_test_std = (x_test - np.mean(x_train))/np.std(x_train)"
      ],
      "execution_count": 7,
      "outputs": []
    },
    {
      "cell_type": "markdown",
      "metadata": {
        "id": "h4SGoMabl45E"
      },
      "source": [
        "### Escalonando os atributos\n",
        "\n",
        "O treinamento de uma rede neural artificial é mais eficiente quando os valores que lhes são fornecidos como entrada são pequenos, pois isto favorece a convergência. Isto é feito escalonando-se todos os atributos para o intervalo [0,1], mas precisa ser feito de maneira cautelosa, para que informações do conjunto de teste não sejam fornecidas no treinamento.\n",
        "\n",
        "Há duas estratégias para tal escalonamento: normalização e padronização. Ambas possuem características particulares, vantagens e limitações, como é possível ver aqui: https://www.analyticsvidhya.com/blog/2020/04/feature-scaling-machine-learning-normalization-standardization/\n",
        "\n",
        "\n",
        "No nosso caso, vamos usar a padronização. Assim, com os atributos preditores do treinamento, isto é, X_train, deve-se subtrair a média e dividir pelo desvio padrão:\n",
        "\n",
        "X_train_std = (X_train - np.mean(X_train))/np.std(X_train)\n",
        "\n",
        "Em seguida, o mesmo deve ser feito com os atributos preditores do conjunto de testes, mas com padronização relativa ao conjunto de treinamento:\n",
        "\n",
        "X_test_std = (X_test - np.mean(X_train))/np.std(X_train)\n",
        "\n",
        "Se todo o conjunto X for utilizado na padronização, a rede neural receberá informações do conjunto de teste por meio da média e variância utilizada para preparar os dados de treinamento, o que não é desejável."
      ]
    },
    {
      "cell_type": "markdown",
      "metadata": {
        "id": "loqS7Dc3l45E"
      },
      "source": [
        "### Continuando\n",
        "\n",
        "5. Treine uma rede neural multilayer perceptron para este problema com uma única camada e dez neurônios  \n",
        "    5.1 Utilize a função de ativação ReLU  \n",
        "    5.2 Utilize o solver Adam    \n",
        "    5.3 Imprima o passo a passo do treinamento    \n",
        "    5.4 Utilize o número máximo de épocas igual a 300  "
      ]
    },
    {
      "cell_type": "code",
      "metadata": {
        "id": "ATVTOuidl45F",
        "outputId": "a09ef93e-d4e7-4cf6-eeec-64e701a4e13e",
        "colab": {
          "base_uri": "https://localhost:8080/",
          "height": 1000
        }
      },
      "source": [
        "# Criando e treinando a rede neural multilayer perceptron\n",
        "nmp = MLPClassifier(hidden_layer_sizes=(10),activation=\"relu\", solver=\"adam\", \n",
        "                    random_state=1, max_iter=300, \n",
        "                    verbose=True).fit(x_train_std, y_train)"
      ],
      "execution_count": 8,
      "outputs": [
        {
          "output_type": "stream",
          "text": [
            "Iteration 1, loss = 0.92677146\n",
            "Iteration 2, loss = 0.70663965\n",
            "Iteration 3, loss = 0.68742275\n",
            "Iteration 4, loss = 0.67804785\n",
            "Iteration 5, loss = 0.67173330\n",
            "Iteration 6, loss = 0.66795662\n",
            "Iteration 7, loss = 0.66536055\n",
            "Iteration 8, loss = 0.66363719\n",
            "Iteration 9, loss = 0.66249517\n",
            "Iteration 10, loss = 0.66159913\n",
            "Iteration 11, loss = 0.66098261\n",
            "Iteration 12, loss = 0.66031835\n",
            "Iteration 13, loss = 0.65972541\n",
            "Iteration 14, loss = 0.65897054\n",
            "Iteration 15, loss = 0.65844078\n",
            "Iteration 16, loss = 0.65794027\n",
            "Iteration 17, loss = 0.65739333\n",
            "Iteration 18, loss = 0.65696161\n",
            "Iteration 19, loss = 0.65668155\n",
            "Iteration 20, loss = 0.65645934\n",
            "Iteration 21, loss = 0.65621898\n",
            "Iteration 22, loss = 0.65608783\n",
            "Iteration 23, loss = 0.65586838\n",
            "Iteration 24, loss = 0.65560923\n",
            "Iteration 25, loss = 0.65548498\n",
            "Iteration 26, loss = 0.65533209\n",
            "Iteration 27, loss = 0.65523662\n",
            "Iteration 28, loss = 0.65506551\n",
            "Iteration 29, loss = 0.65495128\n",
            "Iteration 30, loss = 0.65482173\n",
            "Iteration 31, loss = 0.65462318\n",
            "Iteration 32, loss = 0.65441522\n",
            "Iteration 33, loss = 0.65420575\n",
            "Iteration 34, loss = 0.65409278\n",
            "Iteration 35, loss = 0.65398200\n",
            "Iteration 36, loss = 0.65388711\n",
            "Iteration 37, loss = 0.65366403\n",
            "Iteration 38, loss = 0.65366170\n",
            "Iteration 39, loss = 0.65345990\n",
            "Iteration 40, loss = 0.65334381\n",
            "Iteration 41, loss = 0.65317999\n",
            "Iteration 42, loss = 0.65306211\n",
            "Iteration 43, loss = 0.65294690\n",
            "Iteration 44, loss = 0.65281171\n",
            "Iteration 45, loss = 0.65255375\n",
            "Iteration 46, loss = 0.65230696\n",
            "Iteration 47, loss = 0.65146953\n",
            "Iteration 48, loss = 0.65018729\n",
            "Iteration 49, loss = 0.64947215\n",
            "Iteration 50, loss = 0.64890623\n",
            "Iteration 51, loss = 0.64870961\n",
            "Iteration 52, loss = 0.64842781\n",
            "Iteration 53, loss = 0.64826938\n",
            "Iteration 54, loss = 0.64814743\n",
            "Iteration 55, loss = 0.64807387\n",
            "Iteration 56, loss = 0.64787974\n",
            "Iteration 57, loss = 0.64788750\n",
            "Iteration 58, loss = 0.64774139\n",
            "Iteration 59, loss = 0.64770944\n",
            "Iteration 60, loss = 0.64765144\n",
            "Iteration 61, loss = 0.64763910\n",
            "Iteration 62, loss = 0.64747757\n",
            "Iteration 63, loss = 0.64743926\n",
            "Iteration 64, loss = 0.64747247\n",
            "Iteration 65, loss = 0.64739861\n",
            "Iteration 66, loss = 0.64734561\n",
            "Iteration 67, loss = 0.64731831\n",
            "Iteration 68, loss = 0.64728401\n",
            "Iteration 69, loss = 0.64721641\n",
            "Iteration 70, loss = 0.64727512\n",
            "Iteration 71, loss = 0.64720340\n",
            "Iteration 72, loss = 0.64718050\n",
            "Iteration 73, loss = 0.64715420\n",
            "Training loss did not improve more than tol=0.000100 for 10 consecutive epochs. Stopping.\n"
          ],
          "name": "stdout"
        }
      ]
    },
    {
      "cell_type": "markdown",
      "metadata": {
        "id": "WABOxVCOl45I"
      },
      "source": [
        "6. Com o modelo em questão, após o treinamento, apresente:"
      ]
    },
    {
      "cell_type": "code",
      "metadata": {
        "id": "0Lo644Tjl45J"
      },
      "source": [
        "# Respostas para o conjunto de teste\n",
        "y_pred = nmp.predict(x_test_std)\n",
        "\n",
        "# Matriz de confusao\n",
        "muddle_matrix = np.array(confusion_matrix(y_test, y_pred))"
      ],
      "execution_count": 9,
      "outputs": []
    },
    {
      "cell_type": "code",
      "metadata": {
        "id": "NOPnZmf4l45L"
      },
      "source": [
        "# Função que imprime a matriz de confusão\n",
        "def print_muddle_matrix(muddle_matrix):\n",
        "    index, columns = [],[]\n",
        "    for i in range(1,len(muddle_matrix)+1):\n",
        "        index.append(i)\n",
        "        columns.append(i)\n",
        "    return pd.DataFrame(data = muddle_matrix, index = index, columns = columns)"
      ],
      "execution_count": 10,
      "outputs": []
    },
    {
      "cell_type": "markdown",
      "metadata": {
        "id": "Gygt60Mll45P"
      },
      "source": [
        "6.1 Matriz de confusão para o conjunto de teste  "
      ]
    },
    {
      "cell_type": "code",
      "metadata": {
        "scrolled": false,
        "id": "T5Ll7K0Zl45P",
        "outputId": "2b8dce2f-9b54-40dd-fd97-d15d009d98f6",
        "colab": {
          "base_uri": "https://localhost:8080/",
          "height": 266
        }
      },
      "source": [
        "print_muddle_matrix(muddle_matrix)"
      ],
      "execution_count": 11,
      "outputs": [
        {
          "output_type": "execute_result",
          "data": {
            "text/html": [
              "<div>\n",
              "<style scoped>\n",
              "    .dataframe tbody tr th:only-of-type {\n",
              "        vertical-align: middle;\n",
              "    }\n",
              "\n",
              "    .dataframe tbody tr th {\n",
              "        vertical-align: top;\n",
              "    }\n",
              "\n",
              "    .dataframe thead th {\n",
              "        text-align: right;\n",
              "    }\n",
              "</style>\n",
              "<table border=\"1\" class=\"dataframe\">\n",
              "  <thead>\n",
              "    <tr style=\"text-align: right;\">\n",
              "      <th></th>\n",
              "      <th>1</th>\n",
              "      <th>2</th>\n",
              "      <th>3</th>\n",
              "      <th>4</th>\n",
              "      <th>5</th>\n",
              "      <th>6</th>\n",
              "      <th>7</th>\n",
              "    </tr>\n",
              "  </thead>\n",
              "  <tbody>\n",
              "    <tr>\n",
              "      <th>1</th>\n",
              "      <td>43913</td>\n",
              "      <td>18200</td>\n",
              "      <td>8</td>\n",
              "      <td>0</td>\n",
              "      <td>8</td>\n",
              "      <td>9</td>\n",
              "      <td>1418</td>\n",
              "    </tr>\n",
              "    <tr>\n",
              "      <th>2</th>\n",
              "      <td>15281</td>\n",
              "      <td>67963</td>\n",
              "      <td>1156</td>\n",
              "      <td>0</td>\n",
              "      <td>100</td>\n",
              "      <td>475</td>\n",
              "      <td>103</td>\n",
              "    </tr>\n",
              "    <tr>\n",
              "      <th>3</th>\n",
              "      <td>0</td>\n",
              "      <td>1858</td>\n",
              "      <td>7512</td>\n",
              "      <td>131</td>\n",
              "      <td>0</td>\n",
              "      <td>1137</td>\n",
              "      <td>0</td>\n",
              "    </tr>\n",
              "    <tr>\n",
              "      <th>4</th>\n",
              "      <td>0</td>\n",
              "      <td>4</td>\n",
              "      <td>375</td>\n",
              "      <td>271</td>\n",
              "      <td>0</td>\n",
              "      <td>145</td>\n",
              "      <td>0</td>\n",
              "    </tr>\n",
              "    <tr>\n",
              "      <th>5</th>\n",
              "      <td>15</td>\n",
              "      <td>2547</td>\n",
              "      <td>46</td>\n",
              "      <td>0</td>\n",
              "      <td>323</td>\n",
              "      <td>10</td>\n",
              "      <td>0</td>\n",
              "    </tr>\n",
              "    <tr>\n",
              "      <th>6</th>\n",
              "      <td>0</td>\n",
              "      <td>1463</td>\n",
              "      <td>2299</td>\n",
              "      <td>54</td>\n",
              "      <td>0</td>\n",
              "      <td>1411</td>\n",
              "      <td>0</td>\n",
              "    </tr>\n",
              "    <tr>\n",
              "      <th>7</th>\n",
              "      <td>2843</td>\n",
              "      <td>28</td>\n",
              "      <td>0</td>\n",
              "      <td>0</td>\n",
              "      <td>0</td>\n",
              "      <td>0</td>\n",
              "      <td>3198</td>\n",
              "    </tr>\n",
              "  </tbody>\n",
              "</table>\n",
              "</div>"
            ],
            "text/plain": [
              "       1      2     3    4    5     6     7\n",
              "1  43913  18200     8    0    8     9  1418\n",
              "2  15281  67963  1156    0  100   475   103\n",
              "3      0   1858  7512  131    0  1137     0\n",
              "4      0      4   375  271    0   145     0\n",
              "5     15   2547    46    0  323    10     0\n",
              "6      0   1463  2299   54    0  1411     0\n",
              "7   2843     28     0    0    0     0  3198"
            ]
          },
          "metadata": {
            "tags": []
          },
          "execution_count": 11
        }
      ]
    },
    {
      "cell_type": "markdown",
      "metadata": {
        "id": "t-Vq-SYwl45T"
      },
      "source": [
        "6.2 Acurácia  "
      ]
    },
    {
      "cell_type": "code",
      "metadata": {
        "id": "QMBaoWn_l45T",
        "outputId": "7a361ba4-719a-41ba-9ef0-9cc5ad2ef574",
        "colab": {
          "base_uri": "https://localhost:8080/",
          "height": 34
        }
      },
      "source": [
        "round(accuracy_score(y_test, y_pred), 4)"
      ],
      "execution_count": 12,
      "outputs": [
        {
          "output_type": "execute_result",
          "data": {
            "text/plain": [
              "0.7148"
            ]
          },
          "metadata": {
            "tags": []
          },
          "execution_count": 12
        }
      ]
    },
    {
      "cell_type": "markdown",
      "metadata": {
        "id": "ZWPrYkiml45X"
      },
      "source": [
        "6.3 F-Score  "
      ]
    },
    {
      "cell_type": "code",
      "metadata": {
        "id": "serpQVvHl45X",
        "outputId": "9dd5e3cd-4f8d-4389-c327-2f2ba12eddae",
        "colab": {
          "base_uri": "https://localhost:8080/",
          "height": 34
        }
      },
      "source": [
        "round(f1_score(y_test, y_pred, average='macro'), 4)"
      ],
      "execution_count": 13,
      "outputs": [
        {
          "output_type": "execute_result",
          "data": {
            "text/plain": [
              "0.5288"
            ]
          },
          "metadata": {
            "tags": []
          },
          "execution_count": 13
        }
      ]
    },
    {
      "cell_type": "markdown",
      "metadata": {
        "id": "zzeN8w1Jl45a"
      },
      "source": [
        "6.4 Precisão  "
      ]
    },
    {
      "cell_type": "code",
      "metadata": {
        "id": "xU8SkDGAl45a",
        "outputId": "3c653413-9be8-4ba2-b4ae-ed845dc74134",
        "colab": {
          "base_uri": "https://localhost:8080/",
          "height": 34
        }
      },
      "source": [
        "round(precision_score(y_test, y_pred, average='macro'), 4)"
      ],
      "execution_count": 14,
      "outputs": [
        {
          "output_type": "execute_result",
          "data": {
            "text/plain": [
              "0.6527"
            ]
          },
          "metadata": {
            "tags": []
          },
          "execution_count": 14
        }
      ]
    },
    {
      "cell_type": "markdown",
      "metadata": {
        "id": "V03-SKc1l45d"
      },
      "source": [
        "6.5 Revocação  "
      ]
    },
    {
      "cell_type": "code",
      "metadata": {
        "id": "BiXQrBGSl45d",
        "outputId": "5545187c-5e2a-4287-f2b5-9f991ecb00d5",
        "colab": {
          "base_uri": "https://localhost:8080/",
          "height": 34
        }
      },
      "source": [
        "round(recall_score(y_test, y_pred, average='macro'), 4)"
      ],
      "execution_count": 15,
      "outputs": [
        {
          "output_type": "execute_result",
          "data": {
            "text/plain": [
              "0.4919"
            ]
          },
          "metadata": {
            "tags": []
          },
          "execution_count": 15
        }
      ]
    },
    {
      "cell_type": "markdown",
      "metadata": {
        "id": "z1ENo6X5l45h"
      },
      "source": [
        "7. Repita o treinamento da mesma rede anterior sem imprimir o passo a passo (verbose False) por 100 vezes  \n",
        "    7.1 Cada uma destas repetições deve ser feita com uma nova partição Holdout  "
      ]
    },
    {
      "cell_type": "code",
      "metadata": {
        "id": "94NDZKG_l45i"
      },
      "source": [
        "f1_scores, accuracy = np.zeros(100), np.zeros(100)\n",
        "\n",
        "nmp = MLPClassifier(hidden_layer_sizes=(10),activation=\"relu\", solver=\"adam\", \n",
        "                    random_state=1, max_iter=300, \n",
        "                    verbose=False)"
      ],
      "execution_count": 16,
      "outputs": []
    },
    {
      "cell_type": "code",
      "metadata": {
        "id": "j5NGl-wEl45l"
      },
      "source": [
        "for i in range (10):\n",
        "    x_train, x_test, y_train, y_test = train_test_split(df_x, df_y, test_size=0.3, train_size=0.7, random_state=1)\n",
        "    x_train_std = (x_train - np.mean(x_train))/np.std(x_train)\n",
        "    x_test_std = (x_test - np.mean(x_train))/np.std(x_train)\n",
        "    nmp.fit(x_train_std, y_train)\n",
        "    y_pred = nmp.predict(x_test_std)\n",
        "    \n",
        "    f1_scores[i] = f1_score(y_test, y_pred, average='macro')\n",
        "    accuracy[i] = accuracy_score(y_test, y_pred)"
      ],
      "execution_count": 17,
      "outputs": []
    },
    {
      "cell_type": "markdown",
      "metadata": {
        "id": "NmjWAApHl45n"
      },
      "source": [
        "7.2 Apresente a média e o desvio padrão da acurácia e do F-Score para o conjunto de treino  "
      ]
    },
    {
      "cell_type": "code",
      "metadata": {
        "id": "S86PEwenl45o",
        "outputId": "962c694e-f085-4082-cde5-6c23c0b2a099",
        "colab": {
          "base_uri": "https://localhost:8080/",
          "height": 34
        }
      },
      "source": [
        "print(round(f1_scores.mean(),5), round(accuracy.mean(),5), round(f1_scores.std(),5), round(accuracy.std(),5))"
      ],
      "execution_count": 18,
      "outputs": [
        {
          "output_type": "stream",
          "text": [
            "0.0514 0.07161 0.1542 0.21483\n"
          ],
          "name": "stdout"
        }
      ]
    },
    {
      "cell_type": "markdown",
      "metadata": {
        "id": "9lSU-NtQl45q"
      },
      "source": [
        "8. Repita por 100 vezes o treinamento desta mesma rede, mas utilizando o otimizador SGD  "
      ]
    },
    {
      "cell_type": "code",
      "metadata": {
        "id": "aH9W7TgfqLgX"
      },
      "source": [
        "f1_scores, accuracy = np.zeros(100), np.zeros(100)\n",
        "\n",
        "nmp = MLPClassifier(hidden_layer_sizes=(10),activation=\"relu\", solver=\"sgd\", \n",
        "                    random_state=1, max_iter=300, \n",
        "                    verbose=False)"
      ],
      "execution_count": 19,
      "outputs": []
    },
    {
      "cell_type": "code",
      "metadata": {
        "id": "3EjUJPQOp_54"
      },
      "source": [
        "for i in range (10):\n",
        "    x_train, x_test, y_train, y_test = train_test_split(df_x, df_y, test_size=0.3, train_size=0.7, random_state=1)\n",
        "    x_train_std = (x_train - np.mean(x_train))/np.std(x_train)\n",
        "    x_test_std = (x_test - np.mean(x_train))/np.std(x_train)\n",
        "    nmp.fit(x_train_std, y_train)\n",
        "    y_pred = nmp.predict(x_test_std)\n",
        "    \n",
        "    f1_scores[i] = f1_score(y_test, y_pred, average='macro')\n",
        "    accuracy[i] = accuracy_score(y_test, y_pred)"
      ],
      "execution_count": 20,
      "outputs": []
    },
    {
      "cell_type": "markdown",
      "metadata": {
        "id": "VuSDo98lqG1v"
      },
      "source": [
        "8.1 Apresente a média e o desvio padrão da acurácia e do F-Score para o conjunto de treino  "
      ]
    },
    {
      "cell_type": "code",
      "metadata": {
        "id": "ZncCwOOjl45r",
        "outputId": "bfb240ab-3b50-426d-e9a2-178ee77b5dff",
        "colab": {
          "base_uri": "https://localhost:8080/",
          "height": 34
        }
      },
      "source": [
        "print(round(f1_scores.mean(),5), round(accuracy.mean(),5), round(f1_scores.std(),5), round(accuracy.std(),5))"
      ],
      "execution_count": 21,
      "outputs": [
        {
          "output_type": "stream",
          "text": [
            "0.04727 0.07176 0.14182 0.21528\n"
          ],
          "name": "stdout"
        }
      ]
    },
    {
      "cell_type": "markdown",
      "metadata": {
        "id": "PCM8l-SOl45t"
      },
      "source": [
        "9. Houve influência da escolha do otimizador no desempenho da rede?  \n",
        "  **R=** Sim, a média e desvio padrão da Acurácia e do F-Score com os hiperparâmetros solver 'adam' e 'sgd'. O modelo com o solver **'adam' se saiu levemente melhor**, pois teve uma maior pontuação para média de f-score e para média de acurácia também."
      ]
    },
    {
      "cell_type": "markdown",
      "metadata": {
        "id": "qqkenG-zl45y"
      },
      "source": [
        "## Discussão\n",
        "\n",
        "Nos passos anteriores, você avaliou o desempenho de uma única rede neural que contém os seguintes parâmetros: uma única camada oculta com 10 neurônios e função de ativação ReLU. O otimizador utilizado, quer seja SGD ou ADAM, trata-se do algoritmo para aproximar o gradiente do erro. Neste sentido, a escolha do otimizador é um hiperparâmetro, pois diz respeito a como a rede neural definida previamente atuará \"em tempo de execução\"  durante o processo de treinamento. Também são hiperparâmetros a quantidade de épocas, a taxa de aprendizado inicial, dentre outros.\n",
        "\n",
        "Cabe alientar também que você efetuou o treinamento desta rede por 100 vezes e apresentou os resultados em termos de média +- desvio padrão. Lembre-se que em uma rede neural há a inicialização aleatória de pesos e, em consequência, o desempenho delas está sujeito à uma flutuação estocástica. A execução destas múltiplas vezes faz com que eliminemos algum viés introduzido por uma boa ou má \"sorte\" na escolha de pesos no caso de uma única execução.\n",
        "\n",
        "Você também aprendeu uma estratégia para escalonar os atributos para uma melhor convergência da rede. Utilize-a em todos os treinamentos e testes propostos a seguir.\n",
        "\n",
        "## Propondo Novas Arquiteturas\n",
        "\n",
        "Variando  os parâmetros (uma ou duas camadas ocultas, com diferente números de neurônios em cada uma delas e a função de ativação) e o hiperparâmetros solver (Adam ou SGD) e o número de épocas (100,150 e 200), atenda ao que se pede:\n",
        "\n",
        "1. Proponha 10 arquiteturas distintas de RNAs para o problema em questão, à sua escolha\n",
        "2. Avalie cada uma das arquiteturas perante todos os hiperparâmetros apresentados por 100 vezes\n",
        "3. Como resultado da avaliação, apresente:  \n",
        "    3.1 Top-3 melhores redes no tocante à F-Score e Acurácia  \n",
        "    3.2 Repetição em que houve o melhor desempenho de cada uma dessas redes: ilustre tp, tf, fp e fn  "
      ]
    },
    {
      "cell_type": "code",
      "metadata": {
        "id": "8-yuT3dEl45z"
      },
      "source": [
        ""
      ],
      "execution_count": 21,
      "outputs": []
    },
    {
      "cell_type": "markdown",
      "metadata": {
        "id": "1gU3key9l452"
      },
      "source": [
        "## Estimando o número de neurônios\n",
        "\n",
        "Um dos problemas de pesquisa com redes neurais artificiais consiste na determinação do número de neurônios em sua arquitetura. Embora não seja possível definir a priori qual rede neural é adequada para um problema, pois isto só é possível mediante uma busca exaustiva, há regras na literatura que sugerem o número de neurônios escondidos, tal como a regra da Pirâmide Geométrica, dada a seguir:\n",
        "\n",
        "$$N_h = \\alpha \\cdot \\sqrt{N_i \\cdot N_o},$$\n",
        "\n",
        "em que $N_h$ é o número de neurônios ocultos (a serem distribuídos em uma ou duas camadas ocultas), $N_i$ é o número de neurônios na camada de entrada e $N_o$ é o número de neurônios na camada de saída. \n",
        "\n",
        "1. Consulte a documentação da classe MLPClassifier (disponível em https://scikit-learn.org/stable/modules/generated/sklearn.neural_network.MLPClassifier.html) e obtenha os valores de $N_i$ e $N_h$.\n",
        "2. Teste os valores de $\\alpha$ como sendo iguais a $0.5$, $2$ e $3$.\n",
        "3. Proponha pelo menos 30 redes neurais segundo a regra da pirâmide geométrica e teste-as nos mesmos termos estabelecidos anterioremente  (solver, épocas, etc.)  \n",
        "    3.1 Apresente as top-3 melhores redes no tocante à F-Score e Acurácia  "
      ]
    },
    {
      "cell_type": "code",
      "metadata": {
        "id": "eZR9IN2Ml453"
      },
      "source": [
        ""
      ],
      "execution_count": 21,
      "outputs": []
    },
    {
      "cell_type": "markdown",
      "metadata": {
        "id": "fm2tWNvEl456"
      },
      "source": [
        "## Testando as Redes Neurais com Atributos Categóricos\n",
        "\n",
        "1. Considere as 6 redes neurais obtidas nos dois top-3 anteriores (arquiteturas próprias e regra da pirâmide geométrica)\n",
        "2. Com todos os atributos preditores da base de dados original, incluindo os categóricos, treine e teste estas mesmas redes por 100 repetições  \n",
        "    2.1 Considere o melhor otimizador para cada uma delas  \n",
        "    2.2 Faça uso de 200 épocas para treinamento  \n",
        "    2.2 Apresente os resultados de acurácia e F-Score em termos da média +- dp para cada arquitetura\n",
        "3. Apresente o gráfico boxplot para o F-Score das 6 arquiteturas perante as 100 repetições"
      ]
    },
    {
      "cell_type": "code",
      "metadata": {
        "id": "FBRMeTRel457"
      },
      "source": [
        ""
      ],
      "execution_count": 21,
      "outputs": []
    },
    {
      "cell_type": "markdown",
      "metadata": {
        "id": "TE9zL201l459"
      },
      "source": [
        "## Considerações Parciais\n",
        "\n",
        "1. É possível identificar uma rede com desempenho superior às demais?\n",
        "2. Qual estratégia mostrou-se mais producente para a obtenção de boas arquiteturas (Estratégia Própria ou Pirâmide Geométrica)? Por quê?\n",
        "3. Considerar os atributos categóricos trouxe melhorias? Justifique.\n",
        "4. Um número maior de épocas trouxe melhorias?\n",
        "5. Qual a maior dificuldade de resolução do problema proposto perante as RNAs?"
      ]
    },
    {
      "cell_type": "code",
      "metadata": {
        "id": "ShylwENEl45-"
      },
      "source": [
        ""
      ],
      "execution_count": 21,
      "outputs": []
    }
  ]
}