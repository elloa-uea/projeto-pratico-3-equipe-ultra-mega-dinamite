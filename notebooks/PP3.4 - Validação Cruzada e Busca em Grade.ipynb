{
  "nbformat": 4,
  "nbformat_minor": 0,
  "metadata": {
    "kernelspec": {
      "display_name": "Python 3",
      "language": "python",
      "name": "python3"
    },
    "language_info": {
      "codemirror_mode": {
        "name": "ipython",
        "version": 3
      },
      "file_extension": ".py",
      "mimetype": "text/x-python",
      "name": "python",
      "nbconvert_exporter": "python",
      "pygments_lexer": "ipython3",
      "version": "3.8.3"
    },
    "colab": {
      "name": "PP3.4 - Validação Cruzada e Busca em Grade.ipynb",
      "provenance": [],
      "collapsed_sections": []
    }
  },
  "cells": [
    {
      "cell_type": "markdown",
      "metadata": {
        "id": "2vKVeLjdhzgB"
      },
      "source": [
        "# Redes Neurais Artificiais 2020.1 -- Projeto Prático 3.4\n",
        "\n",
        "**Disciplina**: Redes Neurais Artificiais 2020.1  \n",
        "**Professora**: Elloá B. Guedes (ebgcosta@uea.edu.br)  \n",
        "**Github**: http://github.com/elloa  \n",
        "**Aluno(a):** Erik Atilio Silva Rey  \n",
        "**Aluno(a):** Enrique Leão Barbosa Izel\n",
        "        \n",
        "\n",
        "Levando em conta a base de dados **_Forest Cover Type_**, esta terceira parte do Projeto Prático 3 diz respeito à proposição e avaliação de múltiplas redes neurais artificiais do tipo feedforward multilayer perceptron para o problema da classificação multi-classe da cobertura florestal em uma área do Roosevelt National Forest.  "
      ]
    },
    {
      "cell_type": "code",
      "metadata": {
        "id": "qEOQ5gUOq8Yy",
        "outputId": "bb3e468c-97ad-4aed-e086-96f8733af4c7",
        "colab": {
          "base_uri": "https://localhost:8080/"
        }
      },
      "source": [
        "## Reservado para a importação de bibliotecas\n",
        "import numpy as np\n",
        "import pandas as pd\n",
        "import math\n",
        "from google.colab import drive\n",
        "from sklearn.model_selection import train_test_split\n",
        "from sklearn.neural_network import MLPClassifier\n",
        "from sklearn.metrics import confusion_matrix\n",
        "from sklearn.model_selection import GridSearchCV\n",
        "import matplotlib.pyplot as plt\n",
        "import seaborn as sns\n",
        "from joblib import dump, load\n",
        "import warnings\n",
        "drive.mount('/content/drive')\n",
        "\n",
        "warnings.filterwarnings('ignore') # Ignora warnings"
      ],
      "execution_count": null,
      "outputs": [
        {
          "output_type": "stream",
          "text": [
            "Drive already mounted at /content/drive; to attempt to forcibly remount, call drive.mount(\"/content/drive\", force_remount=True).\n"
          ],
          "name": "stdout"
        }
      ]
    },
    {
      "cell_type": "markdown",
      "metadata": {
        "id": "n_L0AtuGq5pc"
      },
      "source": [
        "## Busca em Grade\n",
        "\n",
        "Uma maneira padrão de escolher os parâmetros de um modelo de Machine Learning é por meio de uma busca em grade via força bruta. O algoritmo da busca em grade é dado como segue:\n",
        "\n",
        "1. Escolha a métrica de desempenho que você deseja maximizar  \n",
        "2. Escolha o algoritmo de Machine Learning (exemplo: redes neurais artificiais). Em seguida, defina os parâmetros ou hiperparâmetros deste tipo de modelo sobre os quais você dseja otimizar (número de épocas, taxa de aprendizado, etc.) e construa um array de valores a serem testados para cada parâmetro ou hiperparâmetro.  \n",
        "3. Defina a grade de busca, a qual é dada como o produto cartesiano de cada parâmetro a ser testado. Por exemplo, para os arrays [50, 100, 1000] e [10, 15], tem-se que a grade é [(50,10), (50,15), (100,10), (100,15), (1000,10), (1000,15)].\n",
        "4. Para cada combinação de parâmetros a serem otimizados, utilize o conjunto de treinamento para realizar uma validação cruzada (holdout ou k-fold) e calcule a métrica de avaliação no conjunto de teste (ou conjuntos de teste)\n",
        "5. Escolha a combinação de parâmetros que maximizam a métrica de avaliação. Este é o modelo otimizado.\n",
        "\n",
        "Por que esta abordagem funciona? Porque a busca em grade efetua uma pesquisa extensiva sobre as possíveis combinações de valores para cada um dos parâmetros a serem ajustados. Para cada combinação, ela estima a performance do modelo em dados novos. Por fim, o modelo com melhor métrica de desempenho é escolhido. Tem-se então que este modelo é o que melhor pode vir a generalizar mediante dados nunca antes vistos.\n",
        "\n",
        "## Efetuando a Busca em Grade sobre Hiperparâmetros das Top-6 RNAs\n",
        "\n",
        "Considerando a etapa anterior do projeto prático, foram identificadas pelo menos 6 melhores Redes Neurais para o problema da classificação multi-classe da cobertura florestal no conjunto de dados selecionado. Algumas destas redes possuem atributos categóricos como variáveis preditoras, enquanto outras possuem apenas os atributos numéricos como preditores.\n",
        "\n",
        "A primeira etapa desta segunda parte do projeto consiste em trazer para este notebook estas seis arquiteturas, ressaltando:\n",
        "\n",
        "1. Número de neurônios ocultos por camada  \n",
        "2. Função de Ativação  \n",
        "3. Utilização ou não de atributos categóricos   \n",
        "4. Desempenho médio +- desvio padrão nos testes anteriores  \n",
        "5. Número de repetições que a equipe conseguiu realizar para verificar os resultados  \n",
        "\n",
        "Elabore uma busca em grade sobre estas arquiteturas que contemple variações nos hiperparâmetros a seguir, conforme documentação de [MLPClassifier](https://scikit-learn.org/stable/modules/generated/sklearn.neural_network.MLPClassifier.html)\n",
        "\n",
        "A. Solver  (Não usar o LBFGS, pois é mais adequado para datasets pequenos)  \n",
        "B. Batch Size  \n",
        "C. Learning Rate Init  \n",
        "D. Paciência (n_iter_no_change)  \n",
        "E. Épocas  \n",
        "\n",
        "Nesta busca em grande, contemple a utilização do objeto [GridSearchCV](https://scikit-learn.org/stable/modules/generated/sklearn.model_selection.GridSearchCV.html)"
      ]
    },
    {
      "cell_type": "markdown",
      "metadata": {
        "id": "tapyCQgPhzgC"
      },
      "source": [
        "## Validação Cruzada k-fold\n",
        "\n",
        "Na elaboração da busca em grid, vamos avaliar os modelos propostos segundo uma estratégia de validação cruzada ainda não explorada até o momento: a validação cruzada k-fold. Segundo a mesma, o conjunto de dados é particionado em k partes: a cada iteração, separa-se uma das partes para teste e o modelo é treinado com as k-1 partes remanescentes. Valores sugestivos de k na literatura são k = 3, 5 ou 10, pois o custo computacional desta validação dos modelos é alto. A métrica de desempenho é resultante da média dos desempenhos nas k iterações. A figura a seguir ilustra a ideia desta avaliação\n",
        "\n",
        "<img src = \"https://ethen8181.github.io/machine-learning/model_selection/img/kfolds.png\" width=600></img>\n",
        "\n",
        "Considerando a métrica de desempenho F1-Score, considere a validação cruzada 5-fold para aferir os resultados da busca em grande anterior."
      ]
    },
    {
      "cell_type": "code",
      "metadata": {
        "id": "4znXE0suIwAp"
      },
      "source": [
        "df = pd.read_csv('/content/drive/My Drive/Colab Notebooks/projeto-pratico-3-equipe-ultra-mega-dinamite/notebooks/data/covtype.csv')"
      ],
      "execution_count": null,
      "outputs": []
    },
    {
      "cell_type": "code",
      "metadata": {
        "id": "8Hfn9WanJN8m"
      },
      "source": [
        "# Função para remover colunas dos atributos categóricos\n",
        "def remove_columns(column, n):\n",
        "    columns_to_remove = []\n",
        "    for i in range(1,n+1):\n",
        "        columns_to_remove.append(column+str(i))\n",
        "    return df.drop(columns_to_remove, axis=1)"
      ],
      "execution_count": null,
      "outputs": []
    },
    {
      "cell_type": "code",
      "metadata": {
        "id": "Ms8sP45dJRcO"
      },
      "source": [
        "df = remove_columns('Soil_Type', 40)\n",
        "df = remove_columns('Wilderness_Area', 4)\n",
        "df_y = df['Cover_Type']\n",
        "df_x = df.loc[:, 'Elevation':'Horizontal_Distance_To_Fire_Points']"
      ],
      "execution_count": null,
      "outputs": []
    },
    {
      "cell_type": "code",
      "metadata": {
        "id": "XSncy9EphzgD",
        "outputId": "7fde985a-5977-48ac-8689-341a73e260ae",
        "colab": {
          "base_uri": "https://localhost:8080/",
          "height": 235
        }
      },
      "source": [
        "top_6 = []\n",
        "# Top 3 das 10 arquiteturas configuradas\n",
        "top_6.append({                                                          \n",
        "    \"camadas\": 2,\"função_ativação\": \"identity\", \"hiperparâmetro\": \"adam\",\n",
        "    \"épocas\": 100, \"neurônios\": 2, \"disposição_nêuronios\": (1,1), \"acurácia\": 0.69418,\n",
        "    \"f1score\": 0.370575\n",
        "})\n",
        "top_6.append({                                                          \n",
        "    \"camadas\": 2,\"função_ativação\": \"relu\", \"hiperparâmetro\": \"sgd\",\n",
        "    \"épocas\": 150, \"neurônios\": 15, \"disposição_nêuronios\": (1,14), \"acurácia\": 0.69672,\n",
        "    \"f1score\": 0.362405\n",
        "})\n",
        "top_6.append({                                                          \n",
        "    \"camadas\": 2,\"função_ativação\": \"tanh\", \"hiperparâmetro\": \"adam\",\n",
        "    \"épocas\": 100, \"neurônios\": 9, \"disposição_nêuronios\": (7,2), \"acurácia\": 0.69561,\n",
        "    \"f1score\": 0.35513\n",
        "})\n",
        "\n",
        "# Top 3 das 30 arquiteturas configuradas\n",
        "top_6.append({                                                          \n",
        "    \"camadas\": 1,\"função_ativação\": \"identity\", \"hiperparâmetro\": \"adam\",\n",
        "    \"épocas\": 200, \"neurônios\": 8, \"disposição_nêuronios\": 8, \"acurácia\": 0.69610,\n",
        "    \"f1score\": 0.35166\n",
        "})\n",
        "top_6.append({                                                          \n",
        "    \"camadas\": 2,\"função_ativação\": \"relu\", \"hiperparâmetro\": \"sgd\",\n",
        "    \"épocas\": 200, \"neurônios\": 8, \"disposição_nêuronios\": (3,5), \"acurácia\": 0.69668,\n",
        "    \"f1score\": 0.36268\n",
        "})\n",
        "top_6.append({                                                          \n",
        "    \"camadas\": 2,\"função_ativação\": \"relu\", \"hiperparâmetro\": \"sgd\",\n",
        "    \"épocas\": 200, \"neurônios\": 9, \"disposição_nêuronios\": (7,2), \"acurácia\": 0.69628,\n",
        "    \"f1score\": 0.36321\n",
        "})\n",
        "result = pd.DataFrame(top_6)\n",
        "result.index += 1\n",
        "result"
      ],
      "execution_count": null,
      "outputs": [
        {
          "output_type": "execute_result",
          "data": {
            "text/html": [
              "<div>\n",
              "<style scoped>\n",
              "    .dataframe tbody tr th:only-of-type {\n",
              "        vertical-align: middle;\n",
              "    }\n",
              "\n",
              "    .dataframe tbody tr th {\n",
              "        vertical-align: top;\n",
              "    }\n",
              "\n",
              "    .dataframe thead th {\n",
              "        text-align: right;\n",
              "    }\n",
              "</style>\n",
              "<table border=\"1\" class=\"dataframe\">\n",
              "  <thead>\n",
              "    <tr style=\"text-align: right;\">\n",
              "      <th></th>\n",
              "      <th>camadas</th>\n",
              "      <th>função_ativação</th>\n",
              "      <th>hiperparâmetro</th>\n",
              "      <th>épocas</th>\n",
              "      <th>neurônios</th>\n",
              "      <th>disposição_nêuronios</th>\n",
              "      <th>acurácia</th>\n",
              "      <th>f1score</th>\n",
              "    </tr>\n",
              "  </thead>\n",
              "  <tbody>\n",
              "    <tr>\n",
              "      <th>1</th>\n",
              "      <td>2</td>\n",
              "      <td>identity</td>\n",
              "      <td>adam</td>\n",
              "      <td>100</td>\n",
              "      <td>2</td>\n",
              "      <td>(1, 1)</td>\n",
              "      <td>0.69418</td>\n",
              "      <td>0.370575</td>\n",
              "    </tr>\n",
              "    <tr>\n",
              "      <th>2</th>\n",
              "      <td>2</td>\n",
              "      <td>relu</td>\n",
              "      <td>sgd</td>\n",
              "      <td>150</td>\n",
              "      <td>15</td>\n",
              "      <td>(1, 14)</td>\n",
              "      <td>0.69672</td>\n",
              "      <td>0.362405</td>\n",
              "    </tr>\n",
              "    <tr>\n",
              "      <th>3</th>\n",
              "      <td>2</td>\n",
              "      <td>tanh</td>\n",
              "      <td>adam</td>\n",
              "      <td>100</td>\n",
              "      <td>9</td>\n",
              "      <td>(7, 2)</td>\n",
              "      <td>0.69561</td>\n",
              "      <td>0.355130</td>\n",
              "    </tr>\n",
              "    <tr>\n",
              "      <th>4</th>\n",
              "      <td>1</td>\n",
              "      <td>identity</td>\n",
              "      <td>adam</td>\n",
              "      <td>200</td>\n",
              "      <td>8</td>\n",
              "      <td>8</td>\n",
              "      <td>0.69610</td>\n",
              "      <td>0.351660</td>\n",
              "    </tr>\n",
              "    <tr>\n",
              "      <th>5</th>\n",
              "      <td>2</td>\n",
              "      <td>relu</td>\n",
              "      <td>sgd</td>\n",
              "      <td>200</td>\n",
              "      <td>8</td>\n",
              "      <td>(3, 5)</td>\n",
              "      <td>0.69668</td>\n",
              "      <td>0.362680</td>\n",
              "    </tr>\n",
              "    <tr>\n",
              "      <th>6</th>\n",
              "      <td>2</td>\n",
              "      <td>relu</td>\n",
              "      <td>sgd</td>\n",
              "      <td>200</td>\n",
              "      <td>9</td>\n",
              "      <td>(7, 2)</td>\n",
              "      <td>0.69628</td>\n",
              "      <td>0.363210</td>\n",
              "    </tr>\n",
              "  </tbody>\n",
              "</table>\n",
              "</div>"
            ],
            "text/plain": [
              "   camadas função_ativação  ... acurácia   f1score\n",
              "1        2        identity  ...  0.69418  0.370575\n",
              "2        2            relu  ...  0.69672  0.362405\n",
              "3        2            tanh  ...  0.69561  0.355130\n",
              "4        1        identity  ...  0.69610  0.351660\n",
              "5        2            relu  ...  0.69668  0.362680\n",
              "6        2            relu  ...  0.69628  0.363210\n",
              "\n",
              "[6 rows x 8 columns]"
            ]
          },
          "metadata": {
            "tags": []
          },
          "execution_count": 6
        }
      ]
    },
    {
      "cell_type": "code",
      "metadata": {
        "id": "k0L71qgjhzgH"
      },
      "source": [
        "GridSearch = []\n",
        "parameters = {\n",
        "    \"solver\": [\"sgd\", \"adam\"],\n",
        "    \"batch_size\": [250],\n",
        "    \"learning_rate_init\": [0.01, 0.02],\n",
        "    \"n_iter_no_change\": [30],\n",
        "    \"max_iter\": [100]\n",
        "}\n",
        "\n",
        "for i in top_6:\n",
        "  mpl = MLPClassifier(hidden_layer_sizes=(i[\"camadas\"]),\n",
        "                      activation=i[\"função_ativação\"],\n",
        "                      solver=i[\"hiperparâmetro\"],\n",
        "                      max_iter=i[\"épocas\"], verbose=False)\n",
        "  clf = GridSearchCV(mpl, parameters)\n",
        "  clf.fit(df_x, df_y)\n",
        "  GridSearch.append(clf)"
      ],
      "execution_count": null,
      "outputs": []
    },
    {
      "cell_type": "markdown",
      "metadata": {
        "id": "XOG74Za0hzgU"
      },
      "source": [
        "## Identificando a mellhor solução\n",
        "\n",
        "Como resultado da busca em grande com validação cruzada 5-fold, identifique o modelo otimizado com melhor desempenho para o problema. Apresente claramente este modelo, seus parâmetros, hiperparâmetros otimizados e resultados para cada um dos folds avaliados. Esta é a melhor solução identificada em decorrência deste projeto"
      ]
    },
    {
      "cell_type": "code",
      "metadata": {
        "id": "BSGHAI_hhzgK",
        "outputId": "5a773648-993d-4020-874a-09a160a93535",
        "colab": {
          "base_uri": "https://localhost:8080/",
          "height": 80
        }
      },
      "source": [
        "best_score, best_estimator = 0.0, 0\n",
        "\n",
        "for idx, val in enumerate(GridSearch):\n",
        "    if (best_score < val.best_score_):\n",
        "        best_score = val.best_score_\n",
        "        best_estimator = idx\n",
        "\n",
        "result = pd.DataFrame([top_6[best_estimator]]) # PARÂMETROS\n",
        "result.index += 1\n",
        "result"
      ],
      "execution_count": null,
      "outputs": [
        {
          "output_type": "execute_result",
          "data": {
            "text/html": [
              "<div>\n",
              "<style scoped>\n",
              "    .dataframe tbody tr th:only-of-type {\n",
              "        vertical-align: middle;\n",
              "    }\n",
              "\n",
              "    .dataframe tbody tr th {\n",
              "        vertical-align: top;\n",
              "    }\n",
              "\n",
              "    .dataframe thead th {\n",
              "        text-align: right;\n",
              "    }\n",
              "</style>\n",
              "<table border=\"1\" class=\"dataframe\">\n",
              "  <thead>\n",
              "    <tr style=\"text-align: right;\">\n",
              "      <th></th>\n",
              "      <th>camadas</th>\n",
              "      <th>função_ativação</th>\n",
              "      <th>hiperparâmetro</th>\n",
              "      <th>épocas</th>\n",
              "      <th>neurônios</th>\n",
              "      <th>disposição_nêuronios</th>\n",
              "      <th>acurácia</th>\n",
              "      <th>f1score</th>\n",
              "    </tr>\n",
              "  </thead>\n",
              "  <tbody>\n",
              "    <tr>\n",
              "      <th>1</th>\n",
              "      <td>1</td>\n",
              "      <td>identity</td>\n",
              "      <td>adam</td>\n",
              "      <td>200</td>\n",
              "      <td>8</td>\n",
              "      <td>8</td>\n",
              "      <td>0.6961</td>\n",
              "      <td>0.35166</td>\n",
              "    </tr>\n",
              "  </tbody>\n",
              "</table>\n",
              "</div>"
            ],
            "text/plain": [
              "   camadas função_ativação  ... acurácia  f1score\n",
              "1        1        identity  ...   0.6961  0.35166\n",
              "\n",
              "[1 rows x 8 columns]"
            ]
          },
          "metadata": {
            "tags": []
          },
          "execution_count": 8
        }
      ]
    },
    {
      "cell_type": "code",
      "metadata": {
        "id": "HH1tdyYPhzgR",
        "outputId": "43b494af-44e3-460d-dccb-287c5ea27fc3",
        "colab": {
          "base_uri": "https://localhost:8080/",
          "height": 80
        }
      },
      "source": [
        "result = pd.DataFrame([GridSearch[best_estimator].best_params_]) # HIPERPARÂMETROS \n",
        "result.index += 1\n",
        "result"
      ],
      "execution_count": null,
      "outputs": [
        {
          "output_type": "execute_result",
          "data": {
            "text/html": [
              "<div>\n",
              "<style scoped>\n",
              "    .dataframe tbody tr th:only-of-type {\n",
              "        vertical-align: middle;\n",
              "    }\n",
              "\n",
              "    .dataframe tbody tr th {\n",
              "        vertical-align: top;\n",
              "    }\n",
              "\n",
              "    .dataframe thead th {\n",
              "        text-align: right;\n",
              "    }\n",
              "</style>\n",
              "<table border=\"1\" class=\"dataframe\">\n",
              "  <thead>\n",
              "    <tr style=\"text-align: right;\">\n",
              "      <th></th>\n",
              "      <th>batch_size</th>\n",
              "      <th>learning_rate_init</th>\n",
              "      <th>max_iter</th>\n",
              "      <th>n_iter_no_change</th>\n",
              "      <th>solver</th>\n",
              "    </tr>\n",
              "  </thead>\n",
              "  <tbody>\n",
              "    <tr>\n",
              "      <th>1</th>\n",
              "      <td>250</td>\n",
              "      <td>0.02</td>\n",
              "      <td>100</td>\n",
              "      <td>30</td>\n",
              "      <td>adam</td>\n",
              "    </tr>\n",
              "  </tbody>\n",
              "</table>\n",
              "</div>"
            ],
            "text/plain": [
              "   batch_size  learning_rate_init  max_iter  n_iter_no_change solver\n",
              "1         250                0.02       100                30   adam"
            ]
          },
          "metadata": {
            "tags": []
          },
          "execution_count": 9
        }
      ]
    },
    {
      "cell_type": "code",
      "metadata": {
        "id": "idKSeAcJ4RCK",
        "outputId": "5569287e-43f4-4b16-ab52-bcb3fae8f88f",
        "colab": {
          "base_uri": "https://localhost:8080/",
          "height": 204
        }
      },
      "source": [
        "kFolds = []\n",
        "for i in range(5):\n",
        "    kFolds.append([round(GridSearch[best_estimator].cv_results_[\"split\"+str(i)+\"_test_score\"][0], 5), \n",
        "                   round(GridSearch[best_estimator].cv_results_[\"split\"+str(i)+\"_test_score\"][1], 5), \n",
        "                   round(GridSearch[best_estimator].cv_results_[\"split\"+str(i)+\"_test_score\"][2], 5), \n",
        "                   round(GridSearch[best_estimator].cv_results_[\"split\"+str(i)+\"_test_score\"][3], 5)])\n",
        "result = pd.DataFrame(kFolds, columns=[\"F-Score 1\", \"F-Score 2\", \"F-Score 3\", \"F-Score 4\"]) # K-FOLDS\n",
        "result.index += 1\n",
        "result"
      ],
      "execution_count": null,
      "outputs": [
        {
          "output_type": "execute_result",
          "data": {
            "text/html": [
              "<div>\n",
              "<style scoped>\n",
              "    .dataframe tbody tr th:only-of-type {\n",
              "        vertical-align: middle;\n",
              "    }\n",
              "\n",
              "    .dataframe tbody tr th {\n",
              "        vertical-align: top;\n",
              "    }\n",
              "\n",
              "    .dataframe thead th {\n",
              "        text-align: right;\n",
              "    }\n",
              "</style>\n",
              "<table border=\"1\" class=\"dataframe\">\n",
              "  <thead>\n",
              "    <tr style=\"text-align: right;\">\n",
              "      <th></th>\n",
              "      <th>F-Score 1</th>\n",
              "      <th>F-Score 2</th>\n",
              "      <th>F-Score 3</th>\n",
              "      <th>F-Score 4</th>\n",
              "    </tr>\n",
              "  </thead>\n",
              "  <tbody>\n",
              "    <tr>\n",
              "      <th>1</th>\n",
              "      <td>0.36460</td>\n",
              "      <td>0.60443</td>\n",
              "      <td>0.36460</td>\n",
              "      <td>0.68937</td>\n",
              "    </tr>\n",
              "    <tr>\n",
              "      <th>2</th>\n",
              "      <td>0.36460</td>\n",
              "      <td>0.77490</td>\n",
              "      <td>0.36460</td>\n",
              "      <td>0.72381</td>\n",
              "    </tr>\n",
              "    <tr>\n",
              "      <th>3</th>\n",
              "      <td>0.36461</td>\n",
              "      <td>0.67314</td>\n",
              "      <td>0.36461</td>\n",
              "      <td>0.67605</td>\n",
              "    </tr>\n",
              "    <tr>\n",
              "      <th>4</th>\n",
              "      <td>0.36461</td>\n",
              "      <td>0.68323</td>\n",
              "      <td>0.36461</td>\n",
              "      <td>0.67450</td>\n",
              "    </tr>\n",
              "    <tr>\n",
              "      <th>5</th>\n",
              "      <td>0.36461</td>\n",
              "      <td>0.56848</td>\n",
              "      <td>0.36461</td>\n",
              "      <td>0.56455</td>\n",
              "    </tr>\n",
              "  </tbody>\n",
              "</table>\n",
              "</div>"
            ],
            "text/plain": [
              "   F-Score 1  F-Score 2  F-Score 3  F-Score 4\n",
              "1    0.36460    0.60443    0.36460    0.68937\n",
              "2    0.36460    0.77490    0.36460    0.72381\n",
              "3    0.36461    0.67314    0.36461    0.67605\n",
              "4    0.36461    0.68323    0.36461    0.67450\n",
              "5    0.36461    0.56848    0.36461    0.56455"
            ]
          },
          "metadata": {
            "tags": []
          },
          "execution_count": 10
        }
      ]
    },
    {
      "cell_type": "markdown",
      "metadata": {
        "id": "8j9f3qWAhzgb"
      },
      "source": [
        "## Empacotando a solução\n",
        "\n",
        "Suponha que você deve entregar este classificador ao órgão responsável por administrar o Roosevelt National Park. Para tanto, você deve fazer uma preparação do mesmo para utilização neste cenário. Uma vez que já identificou os melhores parâmetros e hiperparâmetros, o passo remanescente consiste em treinar o modelo com estes valores e todos os dados disponíveis, salvando o conjunto de pesos do modelo ao final para entrega ao cliente. Assim, finalize o projeto prático realizando tais passos.\n",
        "\n",
        "1. Consulte a documentação a seguir:\n",
        "https://scikit-learn.org/stable/modules/model_persistence.html  \n",
        "2. Treine o modelo com todos os dados  \n",
        "3. Salve o modelo em disco  \n",
        "4. Construa uma rotina que recupere o modelo em disco  \n",
        "5. Mostre que a rotina é funcional, fazendo previsões com todos os elementos do dataset e exibindo uma matriz de confusão das mesmas"
      ]
    },
    {
      "cell_type": "code",
      "metadata": {
        "id": "yYXUuSXhhzgc"
      },
      "source": [
        "# Criando novo modelo otimizado e treinando\n",
        "mpl = MLPClassifier(hidden_layer_sizes=top_6[best_estimator][\"camadas\"],\n",
        "                        activation=top_6[best_estimator][\"função_ativação\"], \n",
        "                        solver=GridSearch[best_estimator].best_params_[\"solver\"], \n",
        "                        max_iter=GridSearch[best_estimator].best_params_[\"max_iter\"],\n",
        "                        batch_size=GridSearch[best_estimator].best_params_[\"batch_size\"],\n",
        "                        learning_rate_init=GridSearch[best_estimator].best_params_[\"learning_rate_init\"],\n",
        "                        n_iter_no_change=GridSearch[best_estimator].best_params_[\"n_iter_no_change\"],\n",
        "                        verbose=False).fit(df_x, df_y)"
      ],
      "execution_count": null,
      "outputs": []
    },
    {
      "cell_type": "code",
      "metadata": {
        "id": "EbUcipCeiUC9",
        "outputId": "34282f2b-908d-4fe6-e64e-85f18f2e848f",
        "colab": {
          "base_uri": "https://localhost:8080/"
        }
      },
      "source": [
        "# Salvando o modelo em disco\n",
        "dump(mpl, 'MLPClassifier.joblib')"
      ],
      "execution_count": null,
      "outputs": [
        {
          "output_type": "execute_result",
          "data": {
            "text/plain": [
              "['MLPClassifier.joblib']"
            ]
          },
          "metadata": {
            "tags": []
          },
          "execution_count": 13
        }
      ]
    },
    {
      "cell_type": "code",
      "metadata": {
        "id": "SIOb5O80iUXK"
      },
      "source": [
        "# Carregando o modelo salvo\n",
        "model = load('MLPClassifier.joblib') \n",
        "\n",
        "# Prevendo para todos os exemplos do dataset\n",
        "y_test = model.predict(df_x)"
      ],
      "execution_count": null,
      "outputs": []
    },
    {
      "cell_type": "code",
      "metadata": {
        "id": "WQbzuW02Hm3T",
        "outputId": "28e61323-bb96-415c-d0b5-cdb3039d6909",
        "colab": {
          "base_uri": "https://localhost:8080/",
          "height": 336
        }
      },
      "source": [
        "# Matriz de confusão dos atributos\n",
        "plt.figure(figsize=(12, 5))\n",
        "sns.heatmap(confusion_matrix(y_test, df_y), annot=True, fmt='5', cmap='Blues')\n",
        "plt.title('Matriz de Confusão')\n",
        "plt.show()"
      ],
      "execution_count": null,
      "outputs": [
        {
          "output_type": "display_data",
          "data": {
            "image/png": "[encoded data removed]",
            "text/plain": [
              "<Figure size 864x360 with 2 Axes>"
            ]
          },
          "metadata": {
            "tags": [],
            "needs_background": "light"
          }
        }
      ]
    }
  ]
}