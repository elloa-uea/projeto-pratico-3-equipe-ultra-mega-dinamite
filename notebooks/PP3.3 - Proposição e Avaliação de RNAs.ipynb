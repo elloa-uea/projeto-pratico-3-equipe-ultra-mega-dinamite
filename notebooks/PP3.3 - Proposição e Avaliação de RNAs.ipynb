{
  "nbformat": 4,
  "nbformat_minor": 0,
  "metadata": {
    "kernelspec": {
      "display_name": "Python 3",
      "language": "python",
      "name": "python3"
    },
    "language_info": {
      "codemirror_mode": {
        "name": "ipython",
        "version": 3
      },
      "file_extension": ".py",
      "mimetype": "text/x-python",
      "name": "python",
      "nbconvert_exporter": "python",
      "pygments_lexer": "ipython3",
      "version": "3.8.2"
    },
    "colab": {
      "name": "PP3.3 - Proposição e Avaliação de RNAs.ipynb",
      "provenance": [],
      "collapsed_sections": []
    }
  },
  "cells": [
    {
      "cell_type": "markdown",
      "metadata": {
        "id": "q0oWiwkIl44j"
      },
      "source": [
        "## Redes Neurais Artificiais 2020.1\n",
        "\n",
        "**Disciplina**: Redes Neurais Artificiais 2020.1  \n",
        "**Professora**: Elloá B. Guedes (ebgcosta@uea.edu.br)  \n",
        "**Github**: http://github.com/elloa  \n",
        "**Aluno(a):** Erik Atilio Silva Rey  \n",
        "**Aluno(a):** Enrique Leão Barbosa Izel  \n",
        "\n",
        "\n",
        "Levando em conta a base de dados **_Forest Cover Type_**, esta terceira parte do Projeto Prático 3 diz respeito à proposição e avaliação de múltiplas redes neurais artificiais do tipo feedforward multilayer perceptron para o problema da classificação multi-classe da cobertura florestal em uma área do Roosevelt National Forest."
      ]
    },
    {
      "cell_type": "code",
      "metadata": {
        "id": "RTRh3PDml44k",
        "outputId": "2f3810ca-f4a2-43d4-e87b-ff5a9a048613",
        "colab": {
          "base_uri": "https://localhost:8080/",
          "height": 34
        }
      },
      "source": [
        "## Reservado para a importação de bibliotecas\n",
        "import numpy as np\n",
        "import pandas as pd\n",
        "import random\n",
        "import math\n",
        "from google.colab import drive\n",
        "drive.mount('/content/drive')\n",
        "from sklearn.model_selection import train_test_split\n",
        "from sklearn.neural_network import MLPClassifier\n",
        "from sklearn.metrics import confusion_matrix, f1_score, precision_score, recall_score, accuracy_score"
      ],
      "execution_count": 3,
      "outputs": [
        {
          "output_type": "stream",
          "text": [
            "Drive already mounted at /content/drive; to attempt to forcibly remount, call drive.mount(\"/content/drive\", force_remount=True).\n"
          ],
          "name": "stdout"
        }
      ]
    },
    {
      "cell_type": "markdown",
      "metadata": {
        "id": "e0Yb8hJol44o"
      },
      "source": [
        "## Testando Redes Neurais sem os Atributos Categórios\n",
        "\n",
        "1. Abra a base de dados em questão"
      ]
    },
    {
      "cell_type": "code",
      "metadata": {
        "id": "-cOZcHNZl44p"
      },
      "source": [
        "df = pd.read_csv('/content/drive/My Drive/Colab Notebooks/projeto-pratico-3-equipe-ultra-mega-dinamite/notebooks/data/covtype.csv')"
      ],
      "execution_count": 7,
      "outputs": []
    },
    {
      "cell_type": "markdown",
      "metadata": {
        "id": "_JxAoQjxl44s"
      },
      "source": [
        "2. Elimine todas as colunas relativas aos atributos categóricos"
      ]
    },
    {
      "cell_type": "code",
      "metadata": {
        "id": "4lVJV-e4l44t"
      },
      "source": [
        "# Função para remover colunas dos atributos categóricos\n",
        "def remove_columns(column, n):\n",
        "    columns_to_remove = []\n",
        "    for i in range(1,n+1):\n",
        "        columns_to_remove.append(column+str(i))\n",
        "    return df.drop(columns_to_remove, axis=1)"
      ],
      "execution_count": 8,
      "outputs": []
    },
    {
      "cell_type": "code",
      "metadata": {
        "id": "tkuDXG-_l44z"
      },
      "source": [
        "df = remove_columns('Soil_Type', 40)\n",
        "df = remove_columns('Wilderness_Area', 4)"
      ],
      "execution_count": 9,
      "outputs": []
    },
    {
      "cell_type": "markdown",
      "metadata": {
        "id": "556qhCKul444"
      },
      "source": [
        "3. Armazene o atributo alvo em uma variável y e os atributos preditores em uma variável X"
      ]
    },
    {
      "cell_type": "code",
      "metadata": {
        "id": "Ij6ANoacl445"
      },
      "source": [
        "df_y = df['Cover_Type']\n",
        "df_x = df.loc[:, 'Elevation':'Horizontal_Distance_To_Fire_Points']"
      ],
      "execution_count": 11,
      "outputs": []
    },
    {
      "cell_type": "markdown",
      "metadata": {
        "id": "UQpMkzEMl448"
      },
      "source": [
        "4. Efetue uma partição holdout 70/30 com o sklearn, distribuindo os exemplos de maneira aleatória"
      ]
    },
    {
      "cell_type": "code",
      "metadata": {
        "id": "B-iBYN_6l448"
      },
      "source": [
        "# Particao holdout para treino (70%) e teste (30%)\n",
        "x_train, x_test, y_train, y_test = train_test_split(df_x, df_y, test_size=0.3, train_size=0.7, random_state=42)"
      ],
      "execution_count": 12,
      "outputs": []
    },
    {
      "cell_type": "markdown",
      "metadata": {
        "id": "RIh0AiEhl45A"
      },
      "source": [
        "5. Efetue o escalonamento dos atributos"
      ]
    },
    {
      "cell_type": "code",
      "metadata": {
        "id": "gC_66TPVl45B"
      },
      "source": [
        "# Escalonando os atributos\n",
        "x_train_std = (x_train - np.mean(x_train))/np.std(x_train)\n",
        "x_test_std = (x_test - np.mean(x_train))/np.std(x_train)"
      ],
      "execution_count": 13,
      "outputs": []
    },
    {
      "cell_type": "markdown",
      "metadata": {
        "id": "h4SGoMabl45E"
      },
      "source": [
        "### Escalonando os atributos\n",
        "\n",
        "O treinamento de uma rede neural artificial é mais eficiente quando os valores que lhes são fornecidos como entrada são pequenos, pois isto favorece a convergência. Isto é feito escalonando-se todos os atributos para o intervalo [0,1], mas precisa ser feito de maneira cautelosa, para que informações do conjunto de teste não sejam fornecidas no treinamento.\n",
        "\n",
        "Há duas estratégias para tal escalonamento: normalização e padronização. Ambas possuem características particulares, vantagens e limitações, como é possível ver aqui: https://www.analyticsvidhya.com/blog/2020/04/feature-scaling-machine-learning-normalization-standardization/\n",
        "\n",
        "\n",
        "No nosso caso, vamos usar a padronização. Assim, com os atributos preditores do treinamento, isto é, X_train, deve-se subtrair a média e dividir pelo desvio padrão:\n",
        "\n",
        "X_train_std = (X_train - np.mean(X_train))/np.std(X_train)\n",
        "\n",
        "Em seguida, o mesmo deve ser feito com os atributos preditores do conjunto de testes, mas com padronização relativa ao conjunto de treinamento:\n",
        "\n",
        "X_test_std = (X_test - np.mean(X_train))/np.std(X_train)\n",
        "\n",
        "Se todo o conjunto X for utilizado na padronização, a rede neural receberá informações do conjunto de teste por meio da média e variância utilizada para preparar os dados de treinamento, o que não é desejável."
      ]
    },
    {
      "cell_type": "markdown",
      "metadata": {
        "id": "loqS7Dc3l45E"
      },
      "source": [
        "### Continuando\n",
        "\n",
        "5. Treine uma rede neural multilayer perceptron para este problema com uma única camada e dez neurônios  \n",
        "    5.1 Utilize a função de ativação ReLU  \n",
        "    5.2 Utilize o solver Adam    \n",
        "    5.3 Imprima o passo a passo do treinamento    \n",
        "    5.4 Utilize o número máximo de épocas igual a 300  "
      ]
    },
    {
      "cell_type": "code",
      "metadata": {
        "id": "ATVTOuidl45F",
        "outputId": "2eb5fe9d-a4d6-4090-c823-e4a253d64fe6",
        "colab": {
          "base_uri": "https://localhost:8080/",
          "height": 1000
        }
      },
      "source": [
        "# Criando e treinando a rede neural multilayer perceptron\n",
        "nmp = MLPClassifier(hidden_layer_sizes=(10),activation=\"relu\", solver=\"adam\", \n",
        "                    random_state=1, max_iter=300, \n",
        "                    verbose=True).fit(x_train_std, y_train)"
      ],
      "execution_count": 10,
      "outputs": [
        {
          "output_type": "stream",
          "text": [
            "Iteration 1, loss = 0.92677146\n",
            "Iteration 2, loss = 0.70663965\n",
            "Iteration 3, loss = 0.68742275\n",
            "Iteration 4, loss = 0.67804785\n",
            "Iteration 5, loss = 0.67173330\n",
            "Iteration 6, loss = 0.66795662\n",
            "Iteration 7, loss = 0.66536055\n",
            "Iteration 8, loss = 0.66363719\n",
            "Iteration 9, loss = 0.66249517\n",
            "Iteration 10, loss = 0.66159913\n",
            "Iteration 11, loss = 0.66098261\n",
            "Iteration 12, loss = 0.66031835\n",
            "Iteration 13, loss = 0.65972541\n",
            "Iteration 14, loss = 0.65897054\n",
            "Iteration 15, loss = 0.65844078\n",
            "Iteration 16, loss = 0.65794027\n",
            "Iteration 17, loss = 0.65739333\n",
            "Iteration 18, loss = 0.65696161\n",
            "Iteration 19, loss = 0.65668155\n",
            "Iteration 20, loss = 0.65645934\n",
            "Iteration 21, loss = 0.65621898\n",
            "Iteration 22, loss = 0.65608783\n",
            "Iteration 23, loss = 0.65586838\n",
            "Iteration 24, loss = 0.65560923\n",
            "Iteration 25, loss = 0.65548498\n",
            "Iteration 26, loss = 0.65533209\n",
            "Iteration 27, loss = 0.65523662\n",
            "Iteration 28, loss = 0.65506551\n",
            "Iteration 29, loss = 0.65495128\n",
            "Iteration 30, loss = 0.65482173\n",
            "Iteration 31, loss = 0.65462318\n",
            "Iteration 32, loss = 0.65441522\n",
            "Iteration 33, loss = 0.65420575\n",
            "Iteration 34, loss = 0.65409278\n",
            "Iteration 35, loss = 0.65398200\n",
            "Iteration 36, loss = 0.65388711\n",
            "Iteration 37, loss = 0.65366403\n",
            "Iteration 38, loss = 0.65366170\n",
            "Iteration 39, loss = 0.65345990\n",
            "Iteration 40, loss = 0.65334381\n",
            "Iteration 41, loss = 0.65317999\n",
            "Iteration 42, loss = 0.65306211\n",
            "Iteration 43, loss = 0.65294690\n",
            "Iteration 44, loss = 0.65281171\n",
            "Iteration 45, loss = 0.65255375\n",
            "Iteration 46, loss = 0.65230696\n",
            "Iteration 47, loss = 0.65146953\n",
            "Iteration 48, loss = 0.65018729\n",
            "Iteration 49, loss = 0.64947215\n",
            "Iteration 50, loss = 0.64890623\n",
            "Iteration 51, loss = 0.64870961\n",
            "Iteration 52, loss = 0.64842781\n",
            "Iteration 53, loss = 0.64826938\n",
            "Iteration 54, loss = 0.64814743\n",
            "Iteration 55, loss = 0.64807387\n",
            "Iteration 56, loss = 0.64787974\n",
            "Iteration 57, loss = 0.64788750\n",
            "Iteration 58, loss = 0.64774139\n",
            "Iteration 59, loss = 0.64770944\n",
            "Iteration 60, loss = 0.64765144\n",
            "Iteration 61, loss = 0.64763910\n",
            "Iteration 62, loss = 0.64747757\n",
            "Iteration 63, loss = 0.64743926\n",
            "Iteration 64, loss = 0.64747247\n",
            "Iteration 65, loss = 0.64739861\n",
            "Iteration 66, loss = 0.64734561\n",
            "Iteration 67, loss = 0.64731831\n",
            "Iteration 68, loss = 0.64728401\n",
            "Iteration 69, loss = 0.64721641\n",
            "Iteration 70, loss = 0.64727512\n",
            "Iteration 71, loss = 0.64720340\n",
            "Iteration 72, loss = 0.64718050\n",
            "Iteration 73, loss = 0.64715420\n",
            "Training loss did not improve more than tol=0.000100 for 10 consecutive epochs. Stopping.\n"
          ],
          "name": "stdout"
        }
      ]
    },
    {
      "cell_type": "markdown",
      "metadata": {
        "id": "WABOxVCOl45I"
      },
      "source": [
        "6. Com o modelo em questão, após o treinamento, apresente:"
      ]
    },
    {
      "cell_type": "code",
      "metadata": {
        "id": "0Lo644Tjl45J"
      },
      "source": [
        "# Respostas para o conjunto de teste\n",
        "y_pred = nmp.predict(x_test_std)\n",
        "\n",
        "# Matriz de confusao\n",
        "muddle_matrix = confusion_matrix(y_test, y_pred)"
      ],
      "execution_count": 32,
      "outputs": []
    },
    {
      "cell_type": "code",
      "metadata": {
        "id": "NOPnZmf4l45L"
      },
      "source": [
        "# Função que imprime a matriz de confusão\n",
        "def print_muddle_matrix(muddle_matrix):\n",
        "    data = np.array(muddle_matrix)\n",
        "    index, columns = [],[]\n",
        "    for i in range(1,len(data)+1):\n",
        "        index.append(i)\n",
        "        columns.append(i)\n",
        "    return pd.DataFrame(data = data, index = index, columns = columns)"
      ],
      "execution_count": 34,
      "outputs": []
    },
    {
      "cell_type": "markdown",
      "metadata": {
        "id": "Gygt60Mll45P"
      },
      "source": [
        "6.1 Matriz de confusão para o conjunto de teste  "
      ]
    },
    {
      "cell_type": "code",
      "metadata": {
        "scrolled": false,
        "id": "T5Ll7K0Zl45P",
        "outputId": "1c7829e0-654d-4edc-b0f2-ed04b8c6fc91",
        "colab": {
          "base_uri": "https://localhost:8080/",
          "height": 266
        }
      },
      "source": [
        "print_muddle_matrix(muddle_matrix)"
      ],
      "execution_count": 52,
      "outputs": [
        {
          "output_type": "execute_result",
          "data": {
            "text/html": [
              "<div>\n",
              "<style scoped>\n",
              "    .dataframe tbody tr th:only-of-type {\n",
              "        vertical-align: middle;\n",
              "    }\n",
              "\n",
              "    .dataframe tbody tr th {\n",
              "        vertical-align: top;\n",
              "    }\n",
              "\n",
              "    .dataframe thead th {\n",
              "        text-align: right;\n",
              "    }\n",
              "</style>\n",
              "<table border=\"1\" class=\"dataframe\">\n",
              "  <thead>\n",
              "    <tr style=\"text-align: right;\">\n",
              "      <th></th>\n",
              "      <th>1</th>\n",
              "      <th>2</th>\n",
              "      <th>3</th>\n",
              "      <th>4</th>\n",
              "      <th>5</th>\n",
              "      <th>6</th>\n",
              "      <th>7</th>\n",
              "    </tr>\n",
              "  </thead>\n",
              "  <tbody>\n",
              "    <tr>\n",
              "      <th>1</th>\n",
              "      <td>46387</td>\n",
              "      <td>17012</td>\n",
              "      <td>4</td>\n",
              "      <td>0</td>\n",
              "      <td>0</td>\n",
              "      <td>0</td>\n",
              "      <td>40</td>\n",
              "    </tr>\n",
              "    <tr>\n",
              "      <th>2</th>\n",
              "      <td>17921</td>\n",
              "      <td>65840</td>\n",
              "      <td>1185</td>\n",
              "      <td>0</td>\n",
              "      <td>0</td>\n",
              "      <td>0</td>\n",
              "      <td>1</td>\n",
              "    </tr>\n",
              "    <tr>\n",
              "      <th>3</th>\n",
              "      <td>0</td>\n",
              "      <td>2444</td>\n",
              "      <td>8285</td>\n",
              "      <td>0</td>\n",
              "      <td>0</td>\n",
              "      <td>0</td>\n",
              "      <td>0</td>\n",
              "    </tr>\n",
              "    <tr>\n",
              "      <th>4</th>\n",
              "      <td>0</td>\n",
              "      <td>5</td>\n",
              "      <td>830</td>\n",
              "      <td>0</td>\n",
              "      <td>0</td>\n",
              "      <td>0</td>\n",
              "      <td>0</td>\n",
              "    </tr>\n",
              "    <tr>\n",
              "      <th>5</th>\n",
              "      <td>0</td>\n",
              "      <td>2878</td>\n",
              "      <td>16</td>\n",
              "      <td>0</td>\n",
              "      <td>0</td>\n",
              "      <td>0</td>\n",
              "      <td>0</td>\n",
              "    </tr>\n",
              "    <tr>\n",
              "      <th>6</th>\n",
              "      <td>0</td>\n",
              "      <td>1854</td>\n",
              "      <td>3374</td>\n",
              "      <td>0</td>\n",
              "      <td>0</td>\n",
              "      <td>0</td>\n",
              "      <td>0</td>\n",
              "    </tr>\n",
              "    <tr>\n",
              "      <th>7</th>\n",
              "      <td>5976</td>\n",
              "      <td>23</td>\n",
              "      <td>0</td>\n",
              "      <td>0</td>\n",
              "      <td>0</td>\n",
              "      <td>0</td>\n",
              "      <td>229</td>\n",
              "    </tr>\n",
              "  </tbody>\n",
              "</table>\n",
              "</div>"
            ],
            "text/plain": [
              "       1      2     3  4  5  6    7\n",
              "1  46387  17012     4  0  0  0   40\n",
              "2  17921  65840  1185  0  0  0    1\n",
              "3      0   2444  8285  0  0  0    0\n",
              "4      0      5   830  0  0  0    0\n",
              "5      0   2878    16  0  0  0    0\n",
              "6      0   1854  3374  0  0  0    0\n",
              "7   5976     23     0  0  0  0  229"
            ]
          },
          "metadata": {
            "tags": []
          },
          "execution_count": 52
        }
      ]
    },
    {
      "cell_type": "markdown",
      "metadata": {
        "id": "t-Vq-SYwl45T"
      },
      "source": [
        "6.2 Acurácia  "
      ]
    },
    {
      "cell_type": "code",
      "metadata": {
        "id": "QMBaoWn_l45T",
        "outputId": "d36f1759-3e18-4664-85a4-124a531d387e",
        "colab": {
          "base_uri": "https://localhost:8080/",
          "height": 34
        }
      },
      "source": [
        "round(accuracy_score(y_test, y_pred), 4)"
      ],
      "execution_count": 14,
      "outputs": [
        {
          "output_type": "execute_result",
          "data": {
            "text/plain": [
              "0.7148"
            ]
          },
          "metadata": {
            "tags": []
          },
          "execution_count": 14
        }
      ]
    },
    {
      "cell_type": "markdown",
      "metadata": {
        "id": "ZWPrYkiml45X"
      },
      "source": [
        "6.3 F-Score  "
      ]
    },
    {
      "cell_type": "code",
      "metadata": {
        "id": "serpQVvHl45X",
        "outputId": "319d3559-26e1-4bfa-db8f-d548326f6df7",
        "colab": {
          "base_uri": "https://localhost:8080/",
          "height": 34
        }
      },
      "source": [
        "round(f1_score(y_test, y_pred, average='macro'), 4)"
      ],
      "execution_count": 15,
      "outputs": [
        {
          "output_type": "execute_result",
          "data": {
            "text/plain": [
              "0.5288"
            ]
          },
          "metadata": {
            "tags": []
          },
          "execution_count": 15
        }
      ]
    },
    {
      "cell_type": "markdown",
      "metadata": {
        "id": "zzeN8w1Jl45a"
      },
      "source": [
        "6.4 Precisão  "
      ]
    },
    {
      "cell_type": "code",
      "metadata": {
        "id": "xU8SkDGAl45a",
        "outputId": "a429be7e-79da-4ed5-f322-b88c12e1cc24",
        "colab": {
          "base_uri": "https://localhost:8080/",
          "height": 34
        }
      },
      "source": [
        "round(precision_score(y_test, y_pred, average='macro'), 4)"
      ],
      "execution_count": 16,
      "outputs": [
        {
          "output_type": "execute_result",
          "data": {
            "text/plain": [
              "0.6527"
            ]
          },
          "metadata": {
            "tags": []
          },
          "execution_count": 16
        }
      ]
    },
    {
      "cell_type": "markdown",
      "metadata": {
        "id": "V03-SKc1l45d"
      },
      "source": [
        "6.5 Revocação  "
      ]
    },
    {
      "cell_type": "code",
      "metadata": {
        "id": "BiXQrBGSl45d",
        "outputId": "f4ed8d31-d278-491f-d918-7d8532a031b3",
        "colab": {
          "base_uri": "https://localhost:8080/",
          "height": 34
        }
      },
      "source": [
        "round(recall_score(y_test, y_pred, average='macro'), 4)"
      ],
      "execution_count": 17,
      "outputs": [
        {
          "output_type": "execute_result",
          "data": {
            "text/plain": [
              "0.4919"
            ]
          },
          "metadata": {
            "tags": []
          },
          "execution_count": 17
        }
      ]
    },
    {
      "cell_type": "markdown",
      "metadata": {
        "id": "z1ENo6X5l45h"
      },
      "source": [
        "7. Repita o treinamento da mesma rede anterior sem imprimir o passo a passo (verbose False) por 100 vezes  \n",
        "    7.1 Cada uma destas repetições deve ser feita com uma nova partição Holdout  "
      ]
    },
    {
      "cell_type": "code",
      "metadata": {
        "id": "94NDZKG_l45i"
      },
      "source": [
        "f1_scores, accuracy = np.zeros(10), np.zeros(10)\n",
        "\n",
        "nmp = MLPClassifier(hidden_layer_sizes=(10),activation=\"relu\", solver=\"adam\", \n",
        "                    random_state=1, max_iter=300, \n",
        "                    verbose=False)"
      ],
      "execution_count": null,
      "outputs": []
    },
    {
      "cell_type": "code",
      "metadata": {
        "id": "j5NGl-wEl45l"
      },
      "source": [
        "for i in range (10):\n",
        "    x_train, x_test, y_train, y_test = train_test_split(df_x, df_y, test_size=0.3, train_size=0.7, random_state=1)\n",
        "    x_train_std = (x_train - np.mean(x_train))/np.std(x_train)\n",
        "    x_test_std = (x_test - np.mean(x_train))/np.std(x_train)\n",
        "    nmp.fit(x_train_std, y_train)\n",
        "    y_pred = nmp.predict(x_test_std)\n",
        "    \n",
        "    f1_scores[i] = f1_score(y_test, y_pred, average='macro')\n",
        "    accuracy[i] = accuracy_score(y_test, y_pred)"
      ],
      "execution_count": null,
      "outputs": []
    },
    {
      "cell_type": "markdown",
      "metadata": {
        "id": "NmjWAApHl45n"
      },
      "source": [
        "7.2 Apresente a média e o desvio padrão da acurácia e do F-Score para o conjunto de treino  "
      ]
    },
    {
      "cell_type": "code",
      "metadata": {
        "id": "S86PEwenl45o",
        "outputId": "72ef96fb-757c-4a85-bbf6-bae86afce1cc",
        "colab": {
          "base_uri": "https://localhost:8080/",
          "height": 34
        }
      },
      "source": [
        "print(round(f1_scores.mean(),5), round(accuracy.mean(),5), round(f1_scores.std(),5), round(accuracy.std(),5))"
      ],
      "execution_count": null,
      "outputs": [
        {
          "output_type": "stream",
          "text": [
            "0.514 0.71611 0.0 0.0\n"
          ],
          "name": "stdout"
        }
      ]
    },
    {
      "cell_type": "markdown",
      "metadata": {
        "id": "9lSU-NtQl45q"
      },
      "source": [
        "8. Repita por 100 vezes o treinamento desta mesma rede, mas utilizando o otimizador SGD  "
      ]
    },
    {
      "cell_type": "code",
      "metadata": {
        "id": "aH9W7TgfqLgX"
      },
      "source": [
        "f1_scores, accuracy = np.zeros(10), np.zeros(10)\n",
        "\n",
        "nmp = MLPClassifier(hidden_layer_sizes=(10),activation=\"relu\", solver=\"sgd\", \n",
        "                    random_state=1, max_iter=300, \n",
        "                    verbose=False)"
      ],
      "execution_count": null,
      "outputs": []
    },
    {
      "cell_type": "code",
      "metadata": {
        "id": "3EjUJPQOp_54"
      },
      "source": [
        "for i in range (10):\n",
        "    x_train, x_test, y_train, y_test = train_test_split(df_x, df_y, test_size=0.3, train_size=0.7, random_state=1)\n",
        "    x_train_std = (x_train - np.mean(x_train))/np.std(x_train)\n",
        "    x_test_std = (x_test - np.mean(x_train))/np.std(x_train)\n",
        "    nmp.fit(x_train_std, y_train)\n",
        "    y_pred = nmp.predict(x_test_std)\n",
        "    \n",
        "    f1_scores[i] = f1_score(y_test, y_pred, average='macro')\n",
        "    accuracy[i] = accuracy_score(y_test, y_pred)"
      ],
      "execution_count": null,
      "outputs": []
    },
    {
      "cell_type": "markdown",
      "metadata": {
        "id": "VuSDo98lqG1v"
      },
      "source": [
        "8.1 Apresente a média e o desvio padrão da acurácia e do F-Score para o conjunto de treino  "
      ]
    },
    {
      "cell_type": "code",
      "metadata": {
        "id": "ZncCwOOjl45r",
        "outputId": "6841a85b-fe9c-4047-b54b-25105c5dab68",
        "colab": {
          "base_uri": "https://localhost:8080/",
          "height": 34
        }
      },
      "source": [
        "print(round(f1_scores.mean(),5), round(accuracy.mean(),5), round(f1_scores.std(),5), round(accuracy.std(),5))"
      ],
      "execution_count": null,
      "outputs": [
        {
          "output_type": "stream",
          "text": [
            "0.47272 0.71761 0.0 0.0\n"
          ],
          "name": "stdout"
        }
      ]
    },
    {
      "cell_type": "markdown",
      "metadata": {
        "id": "PCM8l-SOl45t"
      },
      "source": [
        "9. Houve influência da escolha do otimizador no desempenho da rede?  \n",
        "  **R=** Sim, a média e desvio padrão da Acurácia e do F-Score com os hiperparâmetros solver 'adam' e 'sgd'. O modelo com o solver **'adam' se saiu levemente melhor**, pois teve uma maior pontuação para média de f-score e para média de acurácia também."
      ]
    },
    {
      "cell_type": "markdown",
      "metadata": {
        "id": "qqkenG-zl45y"
      },
      "source": [
        "## Discussão\n",
        "\n",
        "Nos passos anteriores, você avaliou o desempenho de uma única rede neural que contém os seguintes parâmetros: uma única camada oculta com 10 neurônios e função de ativação ReLU. O otimizador utilizado, quer seja SGD ou ADAM, trata-se do algoritmo para aproximar o gradiente do erro. Neste sentido, a escolha do otimizador é um hiperparâmetro, pois diz respeito a como a rede neural definida previamente atuará \"em tempo de execução\"  durante o processo de treinamento. Também são hiperparâmetros a quantidade de épocas, a taxa de aprendizado inicial, dentre outros.\n",
        "\n",
        "Cabe alientar também que você efetuou o treinamento desta rede por 100 vezes e apresentou os resultados em termos de média +- desvio padrão. Lembre-se que em uma rede neural há a inicialização aleatória de pesos e, em consequência, o desempenho delas está sujeito à uma flutuação estocástica. A execução destas múltiplas vezes faz com que eliminemos algum viés introduzido por uma boa ou má \"sorte\" na escolha de pesos no caso de uma única execução.\n",
        "\n",
        "Você também aprendeu uma estratégia para escalonar os atributos para uma melhor convergência da rede. Utilize-a em todos os treinamentos e testes propostos a seguir.\n",
        "\n",
        "## Propondo Novas Arquiteturas\n",
        "\n",
        "Variando  os parâmetros (uma ou duas camadas ocultas, com diferente números de neurônios em cada uma delas e a função de ativação) e o hiperparâmetros solver (Adam ou SGD) e o número de épocas (100,150 e 200), atenda ao que se pede:\n",
        "\n",
        "1. Proponha 10 arquiteturas distintas de RNAs para o problema em questão, à sua escolha"
      ]
    },
    {
      "cell_type": "code",
      "metadata": {
        "id": "8-yuT3dEl45z"
      },
      "source": [
        "activation_function, hyper_parameter, times, layers, config = [\"identity\", \"logistic\", \"relu\", \"tanh\"], [\"adam\", \"sgd\"], [100, 150, 200], [1, 2], []\n",
        "\n",
        "for i in range(10):\n",
        "  type_time = random.randrange(1, 1000000, 1)%3\n",
        "  type_hyper_parameter, quantity_layers = random.randrange(1, 1000000, 1)%2, random.randrange(1, 1000000, 1)%2\n",
        "  type_activation_function = random.randrange(1, 1000000, 1)%4\n",
        "  quantity_neurons = random.randrange(1, 20, 1)\n",
        "  aux = random.randrange(1, quantity_neurons, 1)\n",
        "  disposition_neurons = quantity_neurons if layers[quantity_layers]== 1 else (aux, quantity_neurons - aux)\n",
        "  config.append({\n",
        "      \"Qtd Camadas\": layers[quantity_layers],\n",
        "      \"Função de Ativação\": activation_function[type_activation_function],\n",
        "      \"Hiperparâmetro\": hyper_parameter[type_hyper_parameter],\n",
        "      \"Qtd Epocas\": times[type_time],\n",
        "      \"Qtd Nêuronios\": quantity_neurons,\n",
        "      \"Disposição de Nêuronios\": disposition_neurons\n",
        "      })"
      ],
      "execution_count": 18,
      "outputs": []
    },
    {
      "cell_type": "code",
      "metadata": {
        "id": "PXWGqTr_g9yH",
        "outputId": "56a238ab-ece1-4de8-9b8a-ae1cb7f8539c",
        "colab": {
          "base_uri": "https://localhost:8080/",
          "height": 359
        }
      },
      "source": [
        "result = pd.DataFrame(config)\n",
        "result.index += 1\n",
        "result"
      ],
      "execution_count": 29,
      "outputs": [
        {
          "output_type": "execute_result",
          "data": {
            "text/html": [
              "<div>\n",
              "<style scoped>\n",
              "    .dataframe tbody tr th:only-of-type {\n",
              "        vertical-align: middle;\n",
              "    }\n",
              "\n",
              "    .dataframe tbody tr th {\n",
              "        vertical-align: top;\n",
              "    }\n",
              "\n",
              "    .dataframe thead th {\n",
              "        text-align: right;\n",
              "    }\n",
              "</style>\n",
              "<table border=\"1\" class=\"dataframe\">\n",
              "  <thead>\n",
              "    <tr style=\"text-align: right;\">\n",
              "      <th></th>\n",
              "      <th>Qtd Camadas</th>\n",
              "      <th>Função de Ativação</th>\n",
              "      <th>Hiperparâmetro</th>\n",
              "      <th>Qtd Epocas</th>\n",
              "      <th>Qtd Nêuronios</th>\n",
              "      <th>Disposição de Nêuronios</th>\n",
              "    </tr>\n",
              "  </thead>\n",
              "  <tbody>\n",
              "    <tr>\n",
              "      <th>1</th>\n",
              "      <td>2</td>\n",
              "      <td>tanh</td>\n",
              "      <td>adam</td>\n",
              "      <td>150</td>\n",
              "      <td>11</td>\n",
              "      <td>(3, 8)</td>\n",
              "    </tr>\n",
              "    <tr>\n",
              "      <th>2</th>\n",
              "      <td>1</td>\n",
              "      <td>relu</td>\n",
              "      <td>sgd</td>\n",
              "      <td>150</td>\n",
              "      <td>8</td>\n",
              "      <td>8</td>\n",
              "    </tr>\n",
              "    <tr>\n",
              "      <th>3</th>\n",
              "      <td>1</td>\n",
              "      <td>logistic</td>\n",
              "      <td>sgd</td>\n",
              "      <td>100</td>\n",
              "      <td>13</td>\n",
              "      <td>13</td>\n",
              "    </tr>\n",
              "    <tr>\n",
              "      <th>4</th>\n",
              "      <td>1</td>\n",
              "      <td>tanh</td>\n",
              "      <td>adam</td>\n",
              "      <td>200</td>\n",
              "      <td>6</td>\n",
              "      <td>6</td>\n",
              "    </tr>\n",
              "    <tr>\n",
              "      <th>5</th>\n",
              "      <td>2</td>\n",
              "      <td>relu</td>\n",
              "      <td>sgd</td>\n",
              "      <td>150</td>\n",
              "      <td>15</td>\n",
              "      <td>(1, 14)</td>\n",
              "    </tr>\n",
              "    <tr>\n",
              "      <th>6</th>\n",
              "      <td>2</td>\n",
              "      <td>identity</td>\n",
              "      <td>adam</td>\n",
              "      <td>100</td>\n",
              "      <td>2</td>\n",
              "      <td>(1, 1)</td>\n",
              "    </tr>\n",
              "    <tr>\n",
              "      <th>7</th>\n",
              "      <td>1</td>\n",
              "      <td>relu</td>\n",
              "      <td>adam</td>\n",
              "      <td>150</td>\n",
              "      <td>6</td>\n",
              "      <td>6</td>\n",
              "    </tr>\n",
              "    <tr>\n",
              "      <th>8</th>\n",
              "      <td>2</td>\n",
              "      <td>logistic</td>\n",
              "      <td>adam</td>\n",
              "      <td>200</td>\n",
              "      <td>6</td>\n",
              "      <td>(5, 1)</td>\n",
              "    </tr>\n",
              "    <tr>\n",
              "      <th>9</th>\n",
              "      <td>2</td>\n",
              "      <td>tanh</td>\n",
              "      <td>adam</td>\n",
              "      <td>100</td>\n",
              "      <td>9</td>\n",
              "      <td>(7, 2)</td>\n",
              "    </tr>\n",
              "    <tr>\n",
              "      <th>10</th>\n",
              "      <td>1</td>\n",
              "      <td>tanh</td>\n",
              "      <td>sgd</td>\n",
              "      <td>150</td>\n",
              "      <td>2</td>\n",
              "      <td>2</td>\n",
              "    </tr>\n",
              "  </tbody>\n",
              "</table>\n",
              "</div>"
            ],
            "text/plain": [
              "    Qtd Camadas Função de Ativação  ... Qtd Nêuronios  Disposição de Nêuronios\n",
              "1             2               tanh  ...            11                   (3, 8)\n",
              "2             1               relu  ...             8                        8\n",
              "3             1           logistic  ...            13                       13\n",
              "4             1               tanh  ...             6                        6\n",
              "5             2               relu  ...            15                  (1, 14)\n",
              "6             2           identity  ...             2                   (1, 1)\n",
              "7             1               relu  ...             6                        6\n",
              "8             2           logistic  ...             6                   (5, 1)\n",
              "9             2               tanh  ...             9                   (7, 2)\n",
              "10            1               tanh  ...             2                        2\n",
              "\n",
              "[10 rows x 6 columns]"
            ]
          },
          "metadata": {
            "tags": []
          },
          "execution_count": 29
        }
      ]
    },
    {
      "cell_type": "markdown",
      "metadata": {
        "id": "Gu01s0t3xfRT"
      },
      "source": [
        "2. Avalie cada uma das arquiteturas perante todos os hiperparâmetros apresentados por 100 vezes"
      ]
    },
    {
      "cell_type": "code",
      "metadata": {
        "id": "i3OHigSYxk6w"
      },
      "source": [
        "f1_scores, accuracy, average_accuracy, average_f1score, dp_accuracy, dp_f1score = np.zeros(10), np.zeros(10), np.zeros(10), np.zeros(10), np.zeros(10), np.zeros(10)\n",
        "result.index -= 1\n",
        "\n",
        "for i in range(0,10):\n",
        "  nmp = MLPClassifier(hidden_layer_sizes=result[\"Qtd Camadas\"][i],\n",
        "                      activation=result[\"Função de Ativação\"][i],\n",
        "                      solver=result[\"Hiperparâmetro\"][i],\n",
        "                      max_iter=result[\"Qtd Epocas\"][i], verbose=False)\n",
        "  for j in range(10):\n",
        "    x_train, x_test, y_train, y_test = train_test_split(df_x, df_y, test_size=0.3, train_size=0.7)\n",
        "    x_train_std = (x_train - np.mean(x_train))/np.std(x_train)\n",
        "    x_test_std = (x_test - np.mean(x_train))/np.std(x_train)\n",
        "    nmp.fit(x_train_std, y_train)\n",
        "    y_pred = nmp.predict(x_test_std)\n",
        "    \n",
        "    f1_scores[j] = f1_score(y_test, y_pred, average='macro')\n",
        "    accuracy[j] = accuracy_score(y_test, y_pred)\n",
        "  print(f'...{i+1*10}%')\n",
        "  average_accuracy[i] = round(accuracy.mean(), 5)\n",
        "  average_f1score[i] = round(f1_scores.mean(), 5)\n",
        "print(f'{i+1*10}%')"
      ],
      "execution_count": null,
      "outputs": []
    },
    {
      "cell_type": "markdown",
      "metadata": {
        "id": "RF3uzCsFxlgg"
      },
      "source": [
        "3. Como resultado da avaliação, apresente:  \n",
        "    3.1 Top-3 melhores redes no tocante à F-Score e Acurácia  "
      ]
    },
    {
      "cell_type": "code",
      "metadata": {
        "id": "khy-c2DQxmGQ",
        "outputId": "e16e6c4a-7160-4811-8974-f2b10eda33b8",
        "colab": {
          "base_uri": "https://localhost:8080/",
          "height": 359
        }
      },
      "source": [
        "result[\"Média Acurácia\"] = average_accuracy\n",
        "result[\"Média F-Score\"] = average_f1score\n",
        "result.sort_values([\"Média Acurácia\"], ascending=False)"
      ],
      "execution_count": 30,
      "outputs": [
        {
          "output_type": "execute_result",
          "data": {
            "text/html": [
              "<div>\n",
              "<style scoped>\n",
              "    .dataframe tbody tr th:only-of-type {\n",
              "        vertical-align: middle;\n",
              "    }\n",
              "\n",
              "    .dataframe tbody tr th {\n",
              "        vertical-align: top;\n",
              "    }\n",
              "\n",
              "    .dataframe thead th {\n",
              "        text-align: right;\n",
              "    }\n",
              "</style>\n",
              "<table border=\"1\" class=\"dataframe\">\n",
              "  <thead>\n",
              "    <tr style=\"text-align: right;\">\n",
              "      <th></th>\n",
              "      <th>Qtd Camadas</th>\n",
              "      <th>Função de Ativação</th>\n",
              "      <th>Hiperparâmetro</th>\n",
              "      <th>Qtd Epocas</th>\n",
              "      <th>Qtd Nêuronios</th>\n",
              "      <th>Disposição de Nêuronios</th>\n",
              "      <th>Média Acurácia</th>\n",
              "      <th>Média F-Score</th>\n",
              "    </tr>\n",
              "  </thead>\n",
              "  <tbody>\n",
              "    <tr>\n",
              "      <th>5</th>\n",
              "      <td>2</td>\n",
              "      <td>relu</td>\n",
              "      <td>sgd</td>\n",
              "      <td>150</td>\n",
              "      <td>15</td>\n",
              "      <td>(1, 14)</td>\n",
              "      <td>0.69672</td>\n",
              "      <td>0.36240</td>\n",
              "    </tr>\n",
              "    <tr>\n",
              "      <th>9</th>\n",
              "      <td>2</td>\n",
              "      <td>tanh</td>\n",
              "      <td>adam</td>\n",
              "      <td>100</td>\n",
              "      <td>9</td>\n",
              "      <td>(7, 2)</td>\n",
              "      <td>0.69561</td>\n",
              "      <td>0.35513</td>\n",
              "    </tr>\n",
              "    <tr>\n",
              "      <th>7</th>\n",
              "      <td>1</td>\n",
              "      <td>relu</td>\n",
              "      <td>adam</td>\n",
              "      <td>150</td>\n",
              "      <td>6</td>\n",
              "      <td>6</td>\n",
              "      <td>0.69552</td>\n",
              "      <td>0.34999</td>\n",
              "    </tr>\n",
              "    <tr>\n",
              "      <th>1</th>\n",
              "      <td>2</td>\n",
              "      <td>tanh</td>\n",
              "      <td>adam</td>\n",
              "      <td>150</td>\n",
              "      <td>11</td>\n",
              "      <td>(3, 8)</td>\n",
              "      <td>0.69502</td>\n",
              "      <td>0.35407</td>\n",
              "    </tr>\n",
              "    <tr>\n",
              "      <th>8</th>\n",
              "      <td>2</td>\n",
              "      <td>logistic</td>\n",
              "      <td>adam</td>\n",
              "      <td>200</td>\n",
              "      <td>6</td>\n",
              "      <td>(5, 1)</td>\n",
              "      <td>0.69478</td>\n",
              "      <td>0.35210</td>\n",
              "    </tr>\n",
              "    <tr>\n",
              "      <th>4</th>\n",
              "      <td>1</td>\n",
              "      <td>tanh</td>\n",
              "      <td>adam</td>\n",
              "      <td>200</td>\n",
              "      <td>6</td>\n",
              "      <td>6</td>\n",
              "      <td>0.69460</td>\n",
              "      <td>0.34727</td>\n",
              "    </tr>\n",
              "    <tr>\n",
              "      <th>2</th>\n",
              "      <td>1</td>\n",
              "      <td>relu</td>\n",
              "      <td>sgd</td>\n",
              "      <td>150</td>\n",
              "      <td>8</td>\n",
              "      <td>8</td>\n",
              "      <td>0.69445</td>\n",
              "      <td>0.32642</td>\n",
              "    </tr>\n",
              "    <tr>\n",
              "      <th>6</th>\n",
              "      <td>2</td>\n",
              "      <td>identity</td>\n",
              "      <td>adam</td>\n",
              "      <td>100</td>\n",
              "      <td>2</td>\n",
              "      <td>(1, 1)</td>\n",
              "      <td>0.69418</td>\n",
              "      <td>0.37057</td>\n",
              "    </tr>\n",
              "    <tr>\n",
              "      <th>10</th>\n",
              "      <td>1</td>\n",
              "      <td>tanh</td>\n",
              "      <td>sgd</td>\n",
              "      <td>150</td>\n",
              "      <td>2</td>\n",
              "      <td>2</td>\n",
              "      <td>0.69390</td>\n",
              "      <td>0.31374</td>\n",
              "    </tr>\n",
              "    <tr>\n",
              "      <th>3</th>\n",
              "      <td>1</td>\n",
              "      <td>logistic</td>\n",
              "      <td>sgd</td>\n",
              "      <td>100</td>\n",
              "      <td>13</td>\n",
              "      <td>13</td>\n",
              "      <td>0.69261</td>\n",
              "      <td>0.30342</td>\n",
              "    </tr>\n",
              "  </tbody>\n",
              "</table>\n",
              "</div>"
            ],
            "text/plain": [
              "    Qtd Camadas Função de Ativação  ... Média Acurácia  Média F-Score\n",
              "5             2               relu  ...        0.69672        0.36240\n",
              "9             2               tanh  ...        0.69561        0.35513\n",
              "7             1               relu  ...        0.69552        0.34999\n",
              "1             2               tanh  ...        0.69502        0.35407\n",
              "8             2           logistic  ...        0.69478        0.35210\n",
              "4             1               tanh  ...        0.69460        0.34727\n",
              "2             1               relu  ...        0.69445        0.32642\n",
              "6             2           identity  ...        0.69418        0.37057\n",
              "10            1               tanh  ...        0.69390        0.31374\n",
              "3             1           logistic  ...        0.69261        0.30342\n",
              "\n",
              "[10 rows x 8 columns]"
            ]
          },
          "metadata": {
            "tags": []
          },
          "execution_count": 30
        }
      ]
    },
    {
      "cell_type": "code",
      "metadata": {
        "id": "CMYAlJQOz3IY",
        "outputId": "15e377e8-a2bd-40c7-ae53-acd718b8310e",
        "colab": {
          "base_uri": "https://localhost:8080/",
          "height": 359
        }
      },
      "source": [
        "result.sort_values([\"Média F-Score\"], ascending=False)"
      ],
      "execution_count": 31,
      "outputs": [
        {
          "output_type": "execute_result",
          "data": {
            "text/html": [
              "<div>\n",
              "<style scoped>\n",
              "    .dataframe tbody tr th:only-of-type {\n",
              "        vertical-align: middle;\n",
              "    }\n",
              "\n",
              "    .dataframe tbody tr th {\n",
              "        vertical-align: top;\n",
              "    }\n",
              "\n",
              "    .dataframe thead th {\n",
              "        text-align: right;\n",
              "    }\n",
              "</style>\n",
              "<table border=\"1\" class=\"dataframe\">\n",
              "  <thead>\n",
              "    <tr style=\"text-align: right;\">\n",
              "      <th></th>\n",
              "      <th>Qtd Camadas</th>\n",
              "      <th>Função de Ativação</th>\n",
              "      <th>Hiperparâmetro</th>\n",
              "      <th>Qtd Epocas</th>\n",
              "      <th>Qtd Nêuronios</th>\n",
              "      <th>Disposição de Nêuronios</th>\n",
              "      <th>Média Acurácia</th>\n",
              "      <th>Média F-Score</th>\n",
              "    </tr>\n",
              "  </thead>\n",
              "  <tbody>\n",
              "    <tr>\n",
              "      <th>6</th>\n",
              "      <td>2</td>\n",
              "      <td>identity</td>\n",
              "      <td>adam</td>\n",
              "      <td>100</td>\n",
              "      <td>2</td>\n",
              "      <td>(1, 1)</td>\n",
              "      <td>0.69418</td>\n",
              "      <td>0.37057</td>\n",
              "    </tr>\n",
              "    <tr>\n",
              "      <th>5</th>\n",
              "      <td>2</td>\n",
              "      <td>relu</td>\n",
              "      <td>sgd</td>\n",
              "      <td>150</td>\n",
              "      <td>15</td>\n",
              "      <td>(1, 14)</td>\n",
              "      <td>0.69672</td>\n",
              "      <td>0.36240</td>\n",
              "    </tr>\n",
              "    <tr>\n",
              "      <th>9</th>\n",
              "      <td>2</td>\n",
              "      <td>tanh</td>\n",
              "      <td>adam</td>\n",
              "      <td>100</td>\n",
              "      <td>9</td>\n",
              "      <td>(7, 2)</td>\n",
              "      <td>0.69561</td>\n",
              "      <td>0.35513</td>\n",
              "    </tr>\n",
              "    <tr>\n",
              "      <th>1</th>\n",
              "      <td>2</td>\n",
              "      <td>tanh</td>\n",
              "      <td>adam</td>\n",
              "      <td>150</td>\n",
              "      <td>11</td>\n",
              "      <td>(3, 8)</td>\n",
              "      <td>0.69502</td>\n",
              "      <td>0.35407</td>\n",
              "    </tr>\n",
              "    <tr>\n",
              "      <th>8</th>\n",
              "      <td>2</td>\n",
              "      <td>logistic</td>\n",
              "      <td>adam</td>\n",
              "      <td>200</td>\n",
              "      <td>6</td>\n",
              "      <td>(5, 1)</td>\n",
              "      <td>0.69478</td>\n",
              "      <td>0.35210</td>\n",
              "    </tr>\n",
              "    <tr>\n",
              "      <th>7</th>\n",
              "      <td>1</td>\n",
              "      <td>relu</td>\n",
              "      <td>adam</td>\n",
              "      <td>150</td>\n",
              "      <td>6</td>\n",
              "      <td>6</td>\n",
              "      <td>0.69552</td>\n",
              "      <td>0.34999</td>\n",
              "    </tr>\n",
              "    <tr>\n",
              "      <th>4</th>\n",
              "      <td>1</td>\n",
              "      <td>tanh</td>\n",
              "      <td>adam</td>\n",
              "      <td>200</td>\n",
              "      <td>6</td>\n",
              "      <td>6</td>\n",
              "      <td>0.69460</td>\n",
              "      <td>0.34727</td>\n",
              "    </tr>\n",
              "    <tr>\n",
              "      <th>2</th>\n",
              "      <td>1</td>\n",
              "      <td>relu</td>\n",
              "      <td>sgd</td>\n",
              "      <td>150</td>\n",
              "      <td>8</td>\n",
              "      <td>8</td>\n",
              "      <td>0.69445</td>\n",
              "      <td>0.32642</td>\n",
              "    </tr>\n",
              "    <tr>\n",
              "      <th>10</th>\n",
              "      <td>1</td>\n",
              "      <td>tanh</td>\n",
              "      <td>sgd</td>\n",
              "      <td>150</td>\n",
              "      <td>2</td>\n",
              "      <td>2</td>\n",
              "      <td>0.69390</td>\n",
              "      <td>0.31374</td>\n",
              "    </tr>\n",
              "    <tr>\n",
              "      <th>3</th>\n",
              "      <td>1</td>\n",
              "      <td>logistic</td>\n",
              "      <td>sgd</td>\n",
              "      <td>100</td>\n",
              "      <td>13</td>\n",
              "      <td>13</td>\n",
              "      <td>0.69261</td>\n",
              "      <td>0.30342</td>\n",
              "    </tr>\n",
              "  </tbody>\n",
              "</table>\n",
              "</div>"
            ],
            "text/plain": [
              "    Qtd Camadas Função de Ativação  ... Média Acurácia  Média F-Score\n",
              "6             2           identity  ...        0.69418        0.37057\n",
              "5             2               relu  ...        0.69672        0.36240\n",
              "9             2               tanh  ...        0.69561        0.35513\n",
              "1             2               tanh  ...        0.69502        0.35407\n",
              "8             2           logistic  ...        0.69478        0.35210\n",
              "7             1               relu  ...        0.69552        0.34999\n",
              "4             1               tanh  ...        0.69460        0.34727\n",
              "2             1               relu  ...        0.69445        0.32642\n",
              "10            1               tanh  ...        0.69390        0.31374\n",
              "3             1           logistic  ...        0.69261        0.30342\n",
              "\n",
              "[10 rows x 8 columns]"
            ]
          },
          "metadata": {
            "tags": []
          },
          "execution_count": 31
        }
      ]
    },
    {
      "cell_type": "markdown",
      "metadata": {
        "id": "l35O7R8R0c6G"
      },
      "source": [
        "**R=** Segundo a média de Acurácia as melhores foram: 5, 9 e 7. E segundo a média de F-Score as melhores foram: 6, 5 e 9. Para a escolha do top 3 decidimos por na seguinte ordem 6, 5 e 9 pois a acurácia pode ser usada quando se há classes de distribuição semelhante, já no caso da F-Score quando as mesmas estão desbalanceada, no caso deste exemplo."
      ]
    },
    {
      "cell_type": "markdown",
      "metadata": {
        "id": "9HLDyc7p5A62"
      },
      "source": [
        "3.2 Repetição em que houve o melhor desempenho de cada uma dessas redes: ilustre tp, tf, fp e fn  "
      ]
    },
    {
      "cell_type": "code",
      "metadata": {
        "id": "QYcV1uv51n9s"
      },
      "source": [
        "def fit(layers, function, hiperparam, times):\n",
        "    nmp = MLPClassifier(hidden_layer_sizes=layers, activation=function, solver= hiperparam, max_iter=times, verbose= False)\n",
        "    nmp.fit(x_train_std, y_train)\n",
        "    return confusion_matrix(y_test, nmp.predict(x_test_std))"
      ],
      "execution_count": 44,
      "outputs": []
    },
    {
      "cell_type": "code",
      "metadata": {
        "id": "y7mWPTLG5XTY",
        "outputId": "89161437-f190-474c-df9c-5acb780e2067",
        "colab": {
          "base_uri": "https://localhost:8080/",
          "height": 266
        }
      },
      "source": [
        "print_muddle_matrix(fit(result['Qtd Camadas'][6], result['Função de Ativação'][6],result['Hiperparâmetro'][6],result['Qtd Epocas'][6]))"
      ],
      "execution_count": 48,
      "outputs": [
        {
          "output_type": "execute_result",
          "data": {
            "text/html": [
              "<div>\n",
              "<style scoped>\n",
              "    .dataframe tbody tr th:only-of-type {\n",
              "        vertical-align: middle;\n",
              "    }\n",
              "\n",
              "    .dataframe tbody tr th {\n",
              "        vertical-align: top;\n",
              "    }\n",
              "\n",
              "    .dataframe thead th {\n",
              "        text-align: right;\n",
              "    }\n",
              "</style>\n",
              "<table border=\"1\" class=\"dataframe\">\n",
              "  <thead>\n",
              "    <tr style=\"text-align: right;\">\n",
              "      <th></th>\n",
              "      <th>1</th>\n",
              "      <th>2</th>\n",
              "      <th>3</th>\n",
              "      <th>4</th>\n",
              "      <th>5</th>\n",
              "      <th>6</th>\n",
              "      <th>7</th>\n",
              "    </tr>\n",
              "  </thead>\n",
              "  <tbody>\n",
              "    <tr>\n",
              "      <th>1</th>\n",
              "      <td>43226</td>\n",
              "      <td>18946</td>\n",
              "      <td>2</td>\n",
              "      <td>0</td>\n",
              "      <td>0</td>\n",
              "      <td>0</td>\n",
              "      <td>1269</td>\n",
              "    </tr>\n",
              "    <tr>\n",
              "      <th>2</th>\n",
              "      <td>16017</td>\n",
              "      <td>67579</td>\n",
              "      <td>1172</td>\n",
              "      <td>0</td>\n",
              "      <td>0</td>\n",
              "      <td>135</td>\n",
              "      <td>44</td>\n",
              "    </tr>\n",
              "    <tr>\n",
              "      <th>3</th>\n",
              "      <td>0</td>\n",
              "      <td>2281</td>\n",
              "      <td>7955</td>\n",
              "      <td>6</td>\n",
              "      <td>0</td>\n",
              "      <td>487</td>\n",
              "      <td>0</td>\n",
              "    </tr>\n",
              "    <tr>\n",
              "      <th>4</th>\n",
              "      <td>0</td>\n",
              "      <td>5</td>\n",
              "      <td>821</td>\n",
              "      <td>1</td>\n",
              "      <td>0</td>\n",
              "      <td>8</td>\n",
              "      <td>0</td>\n",
              "    </tr>\n",
              "    <tr>\n",
              "      <th>5</th>\n",
              "      <td>0</td>\n",
              "      <td>2878</td>\n",
              "      <td>16</td>\n",
              "      <td>0</td>\n",
              "      <td>0</td>\n",
              "      <td>0</td>\n",
              "      <td>0</td>\n",
              "    </tr>\n",
              "    <tr>\n",
              "      <th>6</th>\n",
              "      <td>0</td>\n",
              "      <td>1831</td>\n",
              "      <td>3031</td>\n",
              "      <td>0</td>\n",
              "      <td>0</td>\n",
              "      <td>366</td>\n",
              "      <td>0</td>\n",
              "    </tr>\n",
              "    <tr>\n",
              "      <th>7</th>\n",
              "      <td>4519</td>\n",
              "      <td>87</td>\n",
              "      <td>0</td>\n",
              "      <td>0</td>\n",
              "      <td>0</td>\n",
              "      <td>0</td>\n",
              "      <td>1622</td>\n",
              "    </tr>\n",
              "  </tbody>\n",
              "</table>\n",
              "</div>"
            ],
            "text/plain": [
              "       1      2     3  4  5    6     7\n",
              "1  43226  18946     2  0  0    0  1269\n",
              "2  16017  67579  1172  0  0  135    44\n",
              "3      0   2281  7955  6  0  487     0\n",
              "4      0      5   821  1  0    8     0\n",
              "5      0   2878    16  0  0    0     0\n",
              "6      0   1831  3031  0  0  366     0\n",
              "7   4519     87     0  0  0    0  1622"
            ]
          },
          "metadata": {
            "tags": []
          },
          "execution_count": 48
        }
      ]
    },
    {
      "cell_type": "code",
      "metadata": {
        "id": "qg5I-2sx7mRE",
        "outputId": "3fc93f52-120d-4892-ee4c-1aa07f5abb3b",
        "colab": {
          "base_uri": "https://localhost:8080/",
          "height": 266
        }
      },
      "source": [
        "print_muddle_matrix(fit(result['Qtd Camadas'][5], result['Função de Ativação'][5],result['Hiperparâmetro'][5],result['Qtd Epocas'][5]))"
      ],
      "execution_count": 49,
      "outputs": [
        {
          "output_type": "execute_result",
          "data": {
            "text/html": [
              "<div>\n",
              "<style scoped>\n",
              "    .dataframe tbody tr th:only-of-type {\n",
              "        vertical-align: middle;\n",
              "    }\n",
              "\n",
              "    .dataframe tbody tr th {\n",
              "        vertical-align: top;\n",
              "    }\n",
              "\n",
              "    .dataframe thead th {\n",
              "        text-align: right;\n",
              "    }\n",
              "</style>\n",
              "<table border=\"1\" class=\"dataframe\">\n",
              "  <thead>\n",
              "    <tr style=\"text-align: right;\">\n",
              "      <th></th>\n",
              "      <th>1</th>\n",
              "      <th>2</th>\n",
              "      <th>3</th>\n",
              "      <th>4</th>\n",
              "      <th>5</th>\n",
              "      <th>6</th>\n",
              "      <th>7</th>\n",
              "    </tr>\n",
              "  </thead>\n",
              "  <tbody>\n",
              "    <tr>\n",
              "      <th>1</th>\n",
              "      <td>43498</td>\n",
              "      <td>19056</td>\n",
              "      <td>0</td>\n",
              "      <td>0</td>\n",
              "      <td>0</td>\n",
              "      <td>0</td>\n",
              "      <td>889</td>\n",
              "    </tr>\n",
              "    <tr>\n",
              "      <th>2</th>\n",
              "      <td>16071</td>\n",
              "      <td>67851</td>\n",
              "      <td>1016</td>\n",
              "      <td>0</td>\n",
              "      <td>0</td>\n",
              "      <td>0</td>\n",
              "      <td>9</td>\n",
              "    </tr>\n",
              "    <tr>\n",
              "      <th>3</th>\n",
              "      <td>0</td>\n",
              "      <td>2625</td>\n",
              "      <td>8104</td>\n",
              "      <td>0</td>\n",
              "      <td>0</td>\n",
              "      <td>0</td>\n",
              "      <td>0</td>\n",
              "    </tr>\n",
              "    <tr>\n",
              "      <th>4</th>\n",
              "      <td>0</td>\n",
              "      <td>10</td>\n",
              "      <td>825</td>\n",
              "      <td>0</td>\n",
              "      <td>0</td>\n",
              "      <td>0</td>\n",
              "      <td>0</td>\n",
              "    </tr>\n",
              "    <tr>\n",
              "      <th>5</th>\n",
              "      <td>0</td>\n",
              "      <td>2893</td>\n",
              "      <td>1</td>\n",
              "      <td>0</td>\n",
              "      <td>0</td>\n",
              "      <td>0</td>\n",
              "      <td>0</td>\n",
              "    </tr>\n",
              "    <tr>\n",
              "      <th>6</th>\n",
              "      <td>0</td>\n",
              "      <td>1867</td>\n",
              "      <td>3361</td>\n",
              "      <td>0</td>\n",
              "      <td>0</td>\n",
              "      <td>0</td>\n",
              "      <td>0</td>\n",
              "    </tr>\n",
              "    <tr>\n",
              "      <th>7</th>\n",
              "      <td>4839</td>\n",
              "      <td>23</td>\n",
              "      <td>0</td>\n",
              "      <td>0</td>\n",
              "      <td>0</td>\n",
              "      <td>0</td>\n",
              "      <td>1366</td>\n",
              "    </tr>\n",
              "  </tbody>\n",
              "</table>\n",
              "</div>"
            ],
            "text/plain": [
              "       1      2     3  4  5  6     7\n",
              "1  43498  19056     0  0  0  0   889\n",
              "2  16071  67851  1016  0  0  0     9\n",
              "3      0   2625  8104  0  0  0     0\n",
              "4      0     10   825  0  0  0     0\n",
              "5      0   2893     1  0  0  0     0\n",
              "6      0   1867  3361  0  0  0     0\n",
              "7   4839     23     0  0  0  0  1366"
            ]
          },
          "metadata": {
            "tags": []
          },
          "execution_count": 49
        }
      ]
    },
    {
      "cell_type": "code",
      "metadata": {
        "id": "HphdCX1u7mE2",
        "outputId": "acf37cbc-5718-4924-df12-7c889e467832",
        "colab": {
          "base_uri": "https://localhost:8080/",
          "height": 266
        }
      },
      "source": [
        "print_muddle_matrix(fit(result['Qtd Camadas'][9], result['Função de Ativação'][9],result['Hiperparâmetro'][9],result['Qtd Epocas'][9]))"
      ],
      "execution_count": 50,
      "outputs": [
        {
          "output_type": "execute_result",
          "data": {
            "text/html": [
              "<div>\n",
              "<style scoped>\n",
              "    .dataframe tbody tr th:only-of-type {\n",
              "        vertical-align: middle;\n",
              "    }\n",
              "\n",
              "    .dataframe tbody tr th {\n",
              "        vertical-align: top;\n",
              "    }\n",
              "\n",
              "    .dataframe thead th {\n",
              "        text-align: right;\n",
              "    }\n",
              "</style>\n",
              "<table border=\"1\" class=\"dataframe\">\n",
              "  <thead>\n",
              "    <tr style=\"text-align: right;\">\n",
              "      <th></th>\n",
              "      <th>1</th>\n",
              "      <th>2</th>\n",
              "      <th>3</th>\n",
              "      <th>4</th>\n",
              "      <th>5</th>\n",
              "      <th>6</th>\n",
              "      <th>7</th>\n",
              "    </tr>\n",
              "  </thead>\n",
              "  <tbody>\n",
              "    <tr>\n",
              "      <th>1</th>\n",
              "      <td>44034</td>\n",
              "      <td>18291</td>\n",
              "      <td>18</td>\n",
              "      <td>0</td>\n",
              "      <td>0</td>\n",
              "      <td>0</td>\n",
              "      <td>1100</td>\n",
              "    </tr>\n",
              "    <tr>\n",
              "      <th>2</th>\n",
              "      <td>16909</td>\n",
              "      <td>66874</td>\n",
              "      <td>1156</td>\n",
              "      <td>0</td>\n",
              "      <td>0</td>\n",
              "      <td>0</td>\n",
              "      <td>8</td>\n",
              "    </tr>\n",
              "    <tr>\n",
              "      <th>3</th>\n",
              "      <td>0</td>\n",
              "      <td>2331</td>\n",
              "      <td>8398</td>\n",
              "      <td>0</td>\n",
              "      <td>0</td>\n",
              "      <td>0</td>\n",
              "      <td>0</td>\n",
              "    </tr>\n",
              "    <tr>\n",
              "      <th>4</th>\n",
              "      <td>0</td>\n",
              "      <td>10</td>\n",
              "      <td>825</td>\n",
              "      <td>0</td>\n",
              "      <td>0</td>\n",
              "      <td>0</td>\n",
              "      <td>0</td>\n",
              "    </tr>\n",
              "    <tr>\n",
              "      <th>5</th>\n",
              "      <td>0</td>\n",
              "      <td>2876</td>\n",
              "      <td>18</td>\n",
              "      <td>0</td>\n",
              "      <td>0</td>\n",
              "      <td>0</td>\n",
              "      <td>0</td>\n",
              "    </tr>\n",
              "    <tr>\n",
              "      <th>6</th>\n",
              "      <td>0</td>\n",
              "      <td>1921</td>\n",
              "      <td>3307</td>\n",
              "      <td>0</td>\n",
              "      <td>0</td>\n",
              "      <td>0</td>\n",
              "      <td>0</td>\n",
              "    </tr>\n",
              "    <tr>\n",
              "      <th>7</th>\n",
              "      <td>4702</td>\n",
              "      <td>23</td>\n",
              "      <td>0</td>\n",
              "      <td>0</td>\n",
              "      <td>0</td>\n",
              "      <td>0</td>\n",
              "      <td>1503</td>\n",
              "    </tr>\n",
              "  </tbody>\n",
              "</table>\n",
              "</div>"
            ],
            "text/plain": [
              "       1      2     3  4  5  6     7\n",
              "1  44034  18291    18  0  0  0  1100\n",
              "2  16909  66874  1156  0  0  0     8\n",
              "3      0   2331  8398  0  0  0     0\n",
              "4      0     10   825  0  0  0     0\n",
              "5      0   2876    18  0  0  0     0\n",
              "6      0   1921  3307  0  0  0     0\n",
              "7   4702     23     0  0  0  0  1503"
            ]
          },
          "metadata": {
            "tags": []
          },
          "execution_count": 50
        }
      ]
    },
    {
      "cell_type": "markdown",
      "metadata": {
        "id": "1gU3key9l452"
      },
      "source": [
        "## Estimando o número de neurônios\n",
        "\n",
        "Um dos problemas de pesquisa com redes neurais artificiais consiste na determinação do número de neurônios em sua arquitetura. Embora não seja possível definir a priori qual rede neural é adequada para um problema, pois isto só é possível mediante uma busca exaustiva, há regras na literatura que sugerem o número de neurônios escondidos, tal como a regra da Pirâmide Geométrica, dada a seguir:\n",
        "\n",
        "$$N_h = \\alpha \\cdot \\sqrt{N_i \\cdot N_o},$$\n",
        "\n",
        "em que $N_h$ é o número de neurônios ocultos (a serem distribuídos em uma ou duas camadas ocultas), $N_i$ é o número de neurônios na camada de entrada e $N_o$ é o número de neurônios na camada de saída. \n",
        "\n",
        "1. Consulte a documentação da classe MLPClassifier (disponível em https://scikit-learn.org/stable/modules/generated/sklearn.neural_network.MLPClassifier.html) e obtenha os valores de $N_i$ e $N_h$.  \n",
        "  **R=** Segundo a documentação da biblioteca sklearn.neural_network.MLPClassifier informa, os valores para Ni, No são a quantidade de atributos preditores e quantidade de classes. Sendo assim, ambos correspondem a 10 e 7.\n",
        "\n",
        "2. Teste os valores de $\\alpha$ como sendo iguais a $0.5$, $2$ e $3$."
      ]
    },
    {
      "cell_type": "code",
      "metadata": {
        "id": "eZR9IN2Ml453"
      },
      "source": [
        "Ni, No, alpha = 10, 7, [0.5, 2, 3]\n",
        "Nh = [] \n",
        "\n",
        "for i in alpha:\n",
        "  Nh.append(int(i*math.sqrt(Ni*No)))"
      ],
      "execution_count": 61,
      "outputs": []
    },
    {
      "cell_type": "markdown",
      "metadata": {
        "id": "OzeVuaGI-F6J"
      },
      "source": [
        "\n",
        "3. Proponha pelo menos 30 redes neurais segundo a regra da pirâmide geométrica e teste-as nos mesmos termos estabelecidos anterioremente  (solver, épocas, etc.)  "
      ]
    },
    {
      "cell_type": "code",
      "metadata": {
        "id": "CdFZ3Hhi_fs1"
      },
      "source": [
        "activation_function, hyper_parameter, times, layers, config = [\"identity\", \"logistic\", \"relu\", \"tanh\"], [\"adam\", \"sgd\"], [100, 150, 200], [1, 2], []\n",
        "\n",
        "for i in range(30):\n",
        "  type_time = random.randrange(1, 1000000, 1)%3\n",
        "  type_hyper_parameter, quantity_layers = random.randrange(1, 1000000, 1)%2, random.randrange(1, 1000000, 1)%2\n",
        "  type_activation_function = random.randrange(1, 1000000, 1)%4\n",
        "  quantity_neurons = random.randrange(1, 20, 1)\n",
        "  aux = random.randrange(1, quantity_neurons, 1)\n",
        "  disposition_neurons = quantity_neurons if layers[quantity_layers]== 1 else (aux, quantity_neurons - aux)\n",
        "  config.append({\n",
        "      \"Qtd Camadas\": layers[quantity_layers],\n",
        "      \"Função de Ativação\": activation_function[type_activation_function],\n",
        "      \"Hiperparâmetro\": hyper_parameter[type_hyper_parameter],\n",
        "      \"Qtd Epocas\": times[type_time],\n",
        "      \"Qtd Nêuronios\": quantity_neurons,\n",
        "      \"Disposição de Nêuronios\": disposition_neurons\n",
        "      })"
      ],
      "execution_count": 4,
      "outputs": []
    },
    {
      "cell_type": "code",
      "metadata": {
        "id": "BOWGOw5pDYN5",
        "outputId": "1cd23ac0-03cc-4b14-c50e-4ce7f45a5223",
        "colab": {
          "base_uri": "https://localhost:8080/",
          "height": 979
        }
      },
      "source": [
        "result = pd.DataFrame(config)\n",
        "result.index += 1\n",
        "result"
      ],
      "execution_count": 5,
      "outputs": [
        {
          "output_type": "execute_result",
          "data": {
            "text/html": [
              "<div>\n",
              "<style scoped>\n",
              "    .dataframe tbody tr th:only-of-type {\n",
              "        vertical-align: middle;\n",
              "    }\n",
              "\n",
              "    .dataframe tbody tr th {\n",
              "        vertical-align: top;\n",
              "    }\n",
              "\n",
              "    .dataframe thead th {\n",
              "        text-align: right;\n",
              "    }\n",
              "</style>\n",
              "<table border=\"1\" class=\"dataframe\">\n",
              "  <thead>\n",
              "    <tr style=\"text-align: right;\">\n",
              "      <th></th>\n",
              "      <th>Qtd Camadas</th>\n",
              "      <th>Função de Ativação</th>\n",
              "      <th>Hiperparâmetro</th>\n",
              "      <th>Qtd Epocas</th>\n",
              "      <th>Qtd Nêuronios</th>\n",
              "      <th>Disposição de Nêuronios</th>\n",
              "    </tr>\n",
              "  </thead>\n",
              "  <tbody>\n",
              "    <tr>\n",
              "      <th>1</th>\n",
              "      <td>2</td>\n",
              "      <td>tanh</td>\n",
              "      <td>sgd</td>\n",
              "      <td>100</td>\n",
              "      <td>7</td>\n",
              "      <td>(5, 2)</td>\n",
              "    </tr>\n",
              "    <tr>\n",
              "      <th>2</th>\n",
              "      <td>1</td>\n",
              "      <td>relu</td>\n",
              "      <td>sgd</td>\n",
              "      <td>200</td>\n",
              "      <td>17</td>\n",
              "      <td>17</td>\n",
              "    </tr>\n",
              "    <tr>\n",
              "      <th>3</th>\n",
              "      <td>1</td>\n",
              "      <td>relu</td>\n",
              "      <td>adam</td>\n",
              "      <td>200</td>\n",
              "      <td>16</td>\n",
              "      <td>16</td>\n",
              "    </tr>\n",
              "    <tr>\n",
              "      <th>4</th>\n",
              "      <td>1</td>\n",
              "      <td>identity</td>\n",
              "      <td>sgd</td>\n",
              "      <td>100</td>\n",
              "      <td>16</td>\n",
              "      <td>16</td>\n",
              "    </tr>\n",
              "    <tr>\n",
              "      <th>5</th>\n",
              "      <td>2</td>\n",
              "      <td>logistic</td>\n",
              "      <td>sgd</td>\n",
              "      <td>200</td>\n",
              "      <td>9</td>\n",
              "      <td>(5, 4)</td>\n",
              "    </tr>\n",
              "    <tr>\n",
              "      <th>6</th>\n",
              "      <td>1</td>\n",
              "      <td>logistic</td>\n",
              "      <td>sgd</td>\n",
              "      <td>200</td>\n",
              "      <td>14</td>\n",
              "      <td>14</td>\n",
              "    </tr>\n",
              "    <tr>\n",
              "      <th>7</th>\n",
              "      <td>1</td>\n",
              "      <td>logistic</td>\n",
              "      <td>sgd</td>\n",
              "      <td>100</td>\n",
              "      <td>4</td>\n",
              "      <td>4</td>\n",
              "    </tr>\n",
              "    <tr>\n",
              "      <th>8</th>\n",
              "      <td>1</td>\n",
              "      <td>relu</td>\n",
              "      <td>adam</td>\n",
              "      <td>100</td>\n",
              "      <td>4</td>\n",
              "      <td>4</td>\n",
              "    </tr>\n",
              "    <tr>\n",
              "      <th>9</th>\n",
              "      <td>1</td>\n",
              "      <td>relu</td>\n",
              "      <td>adam</td>\n",
              "      <td>200</td>\n",
              "      <td>4</td>\n",
              "      <td>4</td>\n",
              "    </tr>\n",
              "    <tr>\n",
              "      <th>10</th>\n",
              "      <td>1</td>\n",
              "      <td>logistic</td>\n",
              "      <td>adam</td>\n",
              "      <td>100</td>\n",
              "      <td>19</td>\n",
              "      <td>19</td>\n",
              "    </tr>\n",
              "    <tr>\n",
              "      <th>11</th>\n",
              "      <td>2</td>\n",
              "      <td>tanh</td>\n",
              "      <td>sgd</td>\n",
              "      <td>200</td>\n",
              "      <td>11</td>\n",
              "      <td>(2, 9)</td>\n",
              "    </tr>\n",
              "    <tr>\n",
              "      <th>12</th>\n",
              "      <td>2</td>\n",
              "      <td>relu</td>\n",
              "      <td>sgd</td>\n",
              "      <td>150</td>\n",
              "      <td>12</td>\n",
              "      <td>(6, 6)</td>\n",
              "    </tr>\n",
              "    <tr>\n",
              "      <th>13</th>\n",
              "      <td>2</td>\n",
              "      <td>logistic</td>\n",
              "      <td>adam</td>\n",
              "      <td>150</td>\n",
              "      <td>8</td>\n",
              "      <td>(1, 7)</td>\n",
              "    </tr>\n",
              "    <tr>\n",
              "      <th>14</th>\n",
              "      <td>2</td>\n",
              "      <td>relu</td>\n",
              "      <td>adam</td>\n",
              "      <td>150</td>\n",
              "      <td>19</td>\n",
              "      <td>(2, 17)</td>\n",
              "    </tr>\n",
              "    <tr>\n",
              "      <th>15</th>\n",
              "      <td>1</td>\n",
              "      <td>identity</td>\n",
              "      <td>adam</td>\n",
              "      <td>200</td>\n",
              "      <td>8</td>\n",
              "      <td>8</td>\n",
              "    </tr>\n",
              "    <tr>\n",
              "      <th>16</th>\n",
              "      <td>1</td>\n",
              "      <td>tanh</td>\n",
              "      <td>adam</td>\n",
              "      <td>100</td>\n",
              "      <td>6</td>\n",
              "      <td>6</td>\n",
              "    </tr>\n",
              "    <tr>\n",
              "      <th>17</th>\n",
              "      <td>2</td>\n",
              "      <td>relu</td>\n",
              "      <td>sgd</td>\n",
              "      <td>200</td>\n",
              "      <td>15</td>\n",
              "      <td>(10, 5)</td>\n",
              "    </tr>\n",
              "    <tr>\n",
              "      <th>18</th>\n",
              "      <td>1</td>\n",
              "      <td>tanh</td>\n",
              "      <td>adam</td>\n",
              "      <td>200</td>\n",
              "      <td>10</td>\n",
              "      <td>10</td>\n",
              "    </tr>\n",
              "    <tr>\n",
              "      <th>19</th>\n",
              "      <td>2</td>\n",
              "      <td>relu</td>\n",
              "      <td>adam</td>\n",
              "      <td>100</td>\n",
              "      <td>6</td>\n",
              "      <td>(2, 4)</td>\n",
              "    </tr>\n",
              "    <tr>\n",
              "      <th>20</th>\n",
              "      <td>2</td>\n",
              "      <td>relu</td>\n",
              "      <td>sgd</td>\n",
              "      <td>150</td>\n",
              "      <td>16</td>\n",
              "      <td>(7, 9)</td>\n",
              "    </tr>\n",
              "    <tr>\n",
              "      <th>21</th>\n",
              "      <td>1</td>\n",
              "      <td>identity</td>\n",
              "      <td>adam</td>\n",
              "      <td>100</td>\n",
              "      <td>16</td>\n",
              "      <td>16</td>\n",
              "    </tr>\n",
              "    <tr>\n",
              "      <th>22</th>\n",
              "      <td>1</td>\n",
              "      <td>tanh</td>\n",
              "      <td>adam</td>\n",
              "      <td>100</td>\n",
              "      <td>12</td>\n",
              "      <td>12</td>\n",
              "    </tr>\n",
              "    <tr>\n",
              "      <th>23</th>\n",
              "      <td>2</td>\n",
              "      <td>logistic</td>\n",
              "      <td>adam</td>\n",
              "      <td>100</td>\n",
              "      <td>11</td>\n",
              "      <td>(8, 3)</td>\n",
              "    </tr>\n",
              "    <tr>\n",
              "      <th>24</th>\n",
              "      <td>2</td>\n",
              "      <td>identity</td>\n",
              "      <td>adam</td>\n",
              "      <td>100</td>\n",
              "      <td>11</td>\n",
              "      <td>(1, 10)</td>\n",
              "    </tr>\n",
              "    <tr>\n",
              "      <th>25</th>\n",
              "      <td>2</td>\n",
              "      <td>tanh</td>\n",
              "      <td>sgd</td>\n",
              "      <td>200</td>\n",
              "      <td>16</td>\n",
              "      <td>(10, 6)</td>\n",
              "    </tr>\n",
              "    <tr>\n",
              "      <th>26</th>\n",
              "      <td>2</td>\n",
              "      <td>identity</td>\n",
              "      <td>sgd</td>\n",
              "      <td>100</td>\n",
              "      <td>13</td>\n",
              "      <td>(10, 3)</td>\n",
              "    </tr>\n",
              "    <tr>\n",
              "      <th>27</th>\n",
              "      <td>2</td>\n",
              "      <td>logistic</td>\n",
              "      <td>sgd</td>\n",
              "      <td>100</td>\n",
              "      <td>11</td>\n",
              "      <td>(5, 6)</td>\n",
              "    </tr>\n",
              "    <tr>\n",
              "      <th>28</th>\n",
              "      <td>1</td>\n",
              "      <td>identity</td>\n",
              "      <td>adam</td>\n",
              "      <td>200</td>\n",
              "      <td>5</td>\n",
              "      <td>5</td>\n",
              "    </tr>\n",
              "    <tr>\n",
              "      <th>29</th>\n",
              "      <td>1</td>\n",
              "      <td>logistic</td>\n",
              "      <td>adam</td>\n",
              "      <td>100</td>\n",
              "      <td>5</td>\n",
              "      <td>5</td>\n",
              "    </tr>\n",
              "    <tr>\n",
              "      <th>30</th>\n",
              "      <td>1</td>\n",
              "      <td>logistic</td>\n",
              "      <td>adam</td>\n",
              "      <td>150</td>\n",
              "      <td>5</td>\n",
              "      <td>5</td>\n",
              "    </tr>\n",
              "  </tbody>\n",
              "</table>\n",
              "</div>"
            ],
            "text/plain": [
              "    Qtd Camadas Função de Ativação  ... Qtd Nêuronios  Disposição de Nêuronios\n",
              "1             2               tanh  ...             7                   (5, 2)\n",
              "2             1               relu  ...            17                       17\n",
              "3             1               relu  ...            16                       16\n",
              "4             1           identity  ...            16                       16\n",
              "5             2           logistic  ...             9                   (5, 4)\n",
              "6             1           logistic  ...            14                       14\n",
              "7             1           logistic  ...             4                        4\n",
              "8             1               relu  ...             4                        4\n",
              "9             1               relu  ...             4                        4\n",
              "10            1           logistic  ...            19                       19\n",
              "11            2               tanh  ...            11                   (2, 9)\n",
              "12            2               relu  ...            12                   (6, 6)\n",
              "13            2           logistic  ...             8                   (1, 7)\n",
              "14            2               relu  ...            19                  (2, 17)\n",
              "15            1           identity  ...             8                        8\n",
              "16            1               tanh  ...             6                        6\n",
              "17            2               relu  ...            15                  (10, 5)\n",
              "18            1               tanh  ...            10                       10\n",
              "19            2               relu  ...             6                   (2, 4)\n",
              "20            2               relu  ...            16                   (7, 9)\n",
              "21            1           identity  ...            16                       16\n",
              "22            1               tanh  ...            12                       12\n",
              "23            2           logistic  ...            11                   (8, 3)\n",
              "24            2           identity  ...            11                  (1, 10)\n",
              "25            2               tanh  ...            16                  (10, 6)\n",
              "26            2           identity  ...            13                  (10, 3)\n",
              "27            2           logistic  ...            11                   (5, 6)\n",
              "28            1           identity  ...             5                        5\n",
              "29            1           logistic  ...             5                        5\n",
              "30            1           logistic  ...             5                        5\n",
              "\n",
              "[30 rows x 6 columns]"
            ]
          },
          "metadata": {
            "tags": []
          },
          "execution_count": 5
        }
      ]
    },
    {
      "cell_type": "markdown",
      "metadata": {
        "id": "sHoKs4Z3Dw6K"
      },
      "source": [
        "3.1 Apresente as top-3 melhores redes no tocante à F-Score e Acurácia"
      ]
    },
    {
      "cell_type": "code",
      "metadata": {
        "id": "TtxYrh87Dopq"
      },
      "source": [
        "f1_scores, accuracy, average_accuracy, average_f1score, dp_accuracy, dp_f1score = np.zeros(30), np.zeros(30), np.zeros(30), np.zeros(30), np.zeros(30), np.zeros(30)\n",
        "result.index -= 1\n",
        "\n",
        "for i in range(0,30):\n",
        "  nmp = MLPClassifier(hidden_layer_sizes=result[\"Qtd Camadas\"][i],\n",
        "                      activation=result[\"Função de Ativação\"][i],\n",
        "                      solver=result[\"Hiperparâmetro\"][i],\n",
        "                      max_iter=result[\"Qtd Epocas\"][i], verbose=False)\n",
        "  for j in range(30):\n",
        "    x_train, x_test, y_train, y_test = train_test_split(df_x, df_y, test_size=0.3, train_size=0.7)\n",
        "    x_train_std = (x_train - np.mean(x_train))/np.std(x_train)\n",
        "    x_test_std = (x_test - np.mean(x_train))/np.std(x_train)\n",
        "    nmp.fit(x_train_std, y_train)\n",
        "    y_pred = nmp.predict(x_test_std)\n",
        "    \n",
        "    f1_scores[j] = f1_score(y_test, y_pred, average='macro')\n",
        "    accuracy[j] = accuracy_score(y_test, y_pred)\n",
        "  average_accuracy[i] = round(accuracy.mean(), 5)\n",
        "  average_f1score[i] = round(f1_scores.mean(), 5)"
      ],
      "execution_count": null,
      "outputs": []
    },
    {
      "cell_type": "markdown",
      "metadata": {
        "id": "fm2tWNvEl456"
      },
      "source": [
        "## Testando as Redes Neurais com Atributos Categóricos\n",
        "\n",
        "1. Considere as 6 redes neurais obtidas nos dois top-3 anteriores (arquiteturas próprias e regra da pirâmide geométrica)\n",
        "2. Com todos os atributos preditores da base de dados original, incluindo os categóricos, treine e teste estas mesmas redes por 100 repetições  \n",
        "    2.1 Considere o melhor otimizador para cada uma delas  \n",
        "    2.2 Faça uso de 200 épocas para treinamento  \n",
        "    2.2 Apresente os resultados de acurácia e F-Score em termos da média +- dp para cada arquitetura\n",
        "3. Apresente o gráfico boxplot para o F-Score das 6 arquiteturas perante as 100 repetições"
      ]
    },
    {
      "cell_type": "code",
      "metadata": {
        "id": "FBRMeTRel457"
      },
      "source": [
        ";("
      ],
      "execution_count": null,
      "outputs": []
    },
    {
      "cell_type": "markdown",
      "metadata": {
        "id": "TE9zL201l459"
      },
      "source": [
        "## Considerações Parciais\n",
        "\n",
        "1. É possível identificar uma rede com desempenho superior às demais?\n",
        "2. Qual estratégia mostrou-se mais producente para a obtenção de boas arquiteturas (Estratégia Própria ou Pirâmide Geométrica)? Por quê?\n",
        "3. Considerar os atributos categóricos trouxe melhorias? Justifique.\n",
        "4. Um número maior de épocas trouxe melhorias?\n",
        "5. Qual a maior dificuldade de resolução do problema proposto perante as RNAs?"
      ]
    },
    {
      "cell_type": "code",
      "metadata": {
        "id": "ShylwENEl45-"
      },
      "source": [
        ";("
      ],
      "execution_count": null,
      "outputs": []
    }
  ]
}